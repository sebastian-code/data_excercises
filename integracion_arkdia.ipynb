{
 "cells": [
  {
   "cell_type": "code",
   "execution_count": 2,
   "id": "4c666f9d-412e-43d3-bda8-59d02479c934",
   "metadata": {},
   "outputs": [],
   "source": [
    "import requests\n",
    "from os import getenv\n",
    "from dotenv import load_dotenv\n",
    "\n",
    "load_dotenv()"
   ]
  },
  {
   "cell_type": "code",
   "execution_count": 12,
   "id": "3d16ed75-2ac4-41db-af21-0010f0e395f8",
   "metadata": {},
   "outputs": [],
   "source": [
    "url = \"https://app.arkdia.co/v1/bpo/asset/asset-api\"\n",
    "\n",
    "token_sebastian = getenv(\"token_sebastian\")\n",
    "token_diego = getenv(\"token_diego\")\n",
    "\n",
    "payload = {\n",
    "    \"name\": \"Test\",\n",
    "    \"kind\": \"API\",\n",
    "    \"pattern\": \"622b75771fdc970021e9a643\",\n",
    "    \"directory\": \"607f3680bd9104004bd0672a\",\n",
    "    \"metaObject\": '\"[]\"',\n",
    "    \"signersList\": [\n",
    "        {\n",
    "            \"firstName\": \"Henry\",\n",
    "            \"lastName\": \"Henao Quintero\",\n",
    "            \"identification\": \"1022445800\",\n",
    "            \"identificationKind\": \"ID\",\n",
    "            \"email\": \"sebastianvar09@gmail.com\",\n",
    "            \"city\": \"Bogotá\",\n",
    "            \"country\": \"CO\",\n",
    "            \"cellphone\": \"3046206661\",\n",
    "            \"principalSigner\": True,\n",
    "            \"typeSign\": \"LOS MANDANTES\",\n",
    "            \"iteration\": 1,\n",
    "        },\n",
    "        {\n",
    "            \"firstName\": \"Alejandro\",\n",
    "            \"lastName\": \"Pineda\",\n",
    "            \"identification\": \"99091100548\",\n",
    "            \"identificationKind\": \"ID\",\n",
    "            \"email\": \"sebastianvagr09@gmail.com\",\n",
    "            \"city\": \"Bogotá\",\n",
    "            \"country\": \"CO\",\n",
    "            \"cellphone\": \"3183796688\",\n",
    "            \"principalSigner\": False,\n",
    "            \"typeSign\": \"firmante 2\",\n",
    "            \"iteration\": 1,\n",
    "        },\n",
    "    ],\n",
    "}\n",
    "files = [\n",
    "    (\n",
    "        \"file\",\n",
    "        (\n",
    "            \"AGameofQueens-excerpt.pdf\",\n",
    "            open(\n",
    "                \"/home/sebastian/Descargas/GE_Validador Plus_WS_Manual de Integracion REST-API_v1 20221118 (3).pdf\",\n",
    "                \"rb\",\n",
    "            ),\n",
    "            \"application/pdf\",\n",
    "        ),\n",
    "    )\n",
    "]\n",
    "headers = {\n",
    "    \"Authorization\": f\"Bearer {token_sebastian}\"\n",
    "}\n",
    "\n",
    "response = requests.request(\"POST\", url, headers=headers, data=payload, files=files)"
   ]
  },
  {
   "cell_type": "code",
   "execution_count": 13,
   "id": "533b6a9c-f063-46d2-9933-6a5a8b7f709c",
   "metadata": {},
   "outputs": [
    {
     "name": "stdout",
     "output_type": "stream",
     "text": [
      "{\"error\":{},\"message\":\"TOKEN_INVALID\",\"code\":119}\n"
     ]
    }
   ],
   "source": [
    "print(response.text)"
   ]
  },
  {
   "cell_type": "code",
   "execution_count": null,
   "id": "c45b46d6-2c4f-4790-b54b-afaba1153d02",
   "metadata": {},
   "outputs": [],
   "source": []
  }
 ],
 "metadata": {
  "kernelspec": {
   "display_name": "Python 3 (ipykernel)",
   "language": "python",
   "name": "python3"
  },
  "language_info": {
   "codemirror_mode": {
    "name": "ipython",
    "version": 3
   },
   "file_extension": ".py",
   "mimetype": "text/x-python",
   "name": "python",
   "nbconvert_exporter": "python",
   "pygments_lexer": "ipython3",
   "version": "3.12.7"
  }
 },
 "nbformat": 4,
 "nbformat_minor": 5
}
