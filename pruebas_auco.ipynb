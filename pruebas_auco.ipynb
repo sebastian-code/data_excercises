{
 "cells": [
  {
   "cell_type": "code",
   "execution_count": null,
   "id": "ac3d436f-eb2a-4433-bae5-f7e0d9ceac7a",
   "metadata": {},
   "outputs": [],
   "source": [
    "import base64\n",
    "import json\n",
    "import requests\n",
    "from os import getenv\n",
    "from dotenv import load_dotenv\n",
    "\n",
    "load_dotenv()"
   ]
  },
  {
   "cell_type": "code",
   "execution_count": null,
   "id": "f64f4f9a-2a5d-4faf-b377-352a2d85147b",
   "metadata": {},
   "outputs": [],
   "source": [
    "public_key = getenv(\"PUBLIC_KEY\")\n",
    "private_key = getenv(\"PRIVATE_KEY\")\n",
    "dev_url = getenv(\"DEV_URL\")\n",
    "prod_url = getenv(\"PROD_URL\")\n",
    "header = {\n",
    "    \"Accept\": \"application/json\",\n",
    "    \"Content-Type\": \"application/json\"\n",
    "}\n",
    "public_header = header | {\n",
    "    \"Authorization\": public_key,\n",
    "}\n",
    "private_header =  header | {\n",
    "    \"Authorization\": private_key,\n",
    "}"
   ]
  },
  {
   "cell_type": "code",
   "execution_count": null,
   "id": "d00e897e-b7bb-4557-ab67-e83126e783b7",
   "metadata": {},
   "outputs": [],
   "source": [
    "company_resp = requests.get(f\"{dev_url}/company\", headers=public_header)"
   ]
  },
  {
   "cell_type": "code",
   "execution_count": null,
   "id": "f5367456-82d7-4a0f-8c8a-de9c275adfbb",
   "metadata": {},
   "outputs": [],
   "source": [
    "company_resp.text"
   ]
  },
  {
   "cell_type": "code",
   "execution_count": null,
   "id": "f71aeef7-f592-4ae2-8f09-faf0a26bd2a7",
   "metadata": {},
   "outputs": [],
   "source": [
    "with open(\"big_data_chunks/contrato_arrendamiento.pdf\", \"rb\") as documento:\n",
    "    encoded_string = base64.b64encode(documento.read()).decode('UTF-8')"
   ]
  },
  {
   "cell_type": "code",
   "execution_count": null,
   "id": "6fc43bef-b0da-4a7e-8e06-b39ae03cd4ed",
   "metadata": {},
   "outputs": [],
   "source": [
    "payload = {\n",
    "    \"name\": \"Contrato de Arrendamiento Dora!\",\n",
    "    \"message\": \"Hola {{ nombre_firmante }}, les comparto el siguiente pdf para que lo firmen\",\n",
    "    \"subject\": \"Contrato de arrendamiento entre {{ arrendador }} y {{ arrendatario }}\",\n",
    "    \"email\": \"hola@holadora.co\",\n",
    "    \"remember\": 6,\n",
    "    \"signProfile\": [\n",
    "        {\n",
    "            \"type\": \"arrendatario\",\n",
    "            \"name\": \"Juan Francisco Garcia\",\n",
    "            \"email\": \"sebaslander@gmail.com\",\n",
    "            \"phone\": \"3137657150\",\n",
    "            \"position\": [\n",
    "               {\n",
    "                   \"page\": 7,\n",
    "                   \"x\": 0.126,\n",
    "                   \"y\": 0.62,\n",
    "                   \"w\": 100,\n",
    "                   \"h\": 50\n",
    "               }\n",
    "            ]\n",
    "        },\n",
    "        {\n",
    "            \"type\": \"arrendador\",\n",
    "            \"name\": \"Grupo Relead\",\n",
    "            \"email\": \"sebaslander@yahoo.es\",\n",
    "            \"phone\": \"3137657150\",\n",
    "            \"position\": [\n",
    "               {\n",
    "                   \"page\": 7,\n",
    "                   \"x\": 0.126,\n",
    "                   \"y\": 0.86,\n",
    "                   \"w\": 100,\n",
    "                   \"h\": 50\n",
    "               }\n",
    "            ]\n",
    "        },\n",
    "    ],\n",
    "    \"camera\": True,\n",
    "    \"otpCode\": True,\n",
    "    \"options\": {\n",
    "        \"camera\": \"identification\",\n",
    "        \"otpCode\": \"phone\",\n",
    "        \"whatsapp\": True\n",
    "    },\n",
    "    \"file\": encoded_string\n",
    "}"
   ]
  },
  {
   "cell_type": "code",
   "execution_count": null,
   "id": "4ebacc41-352a-47cd-bf46-c3a5a07967da",
   "metadata": {},
   "outputs": [],
   "source": [
    "upload_doc_resp = requests.post(f\"{dev_url}/document/upload\", headers=private_header, json=payload) # json=json.dumps(payload)"
   ]
  },
  {
   "cell_type": "code",
   "execution_count": null,
   "id": "5b465adb-eaed-4cbb-971f-6fa17ca1a474",
   "metadata": {},
   "outputs": [],
   "source": [
    "upload_doc_resp.json()"
   ]
  },
  {
   "cell_type": "code",
   "execution_count": null,
   "id": "cc7e6183-c2aa-465a-86c7-7a544802b4ce",
   "metadata": {},
   "outputs": [],
   "source": [
    "doc = requests.get(f\"{dev_url}/document?code={upload_doc_resp.json().get('document', None)}\", headers=public_header)"
   ]
  },
  {
   "cell_type": "code",
   "execution_count": null,
   "id": "8b28ff58-6b3d-4df5-b975-465f9361bcb4",
   "metadata": {},
   "outputs": [],
   "source": [
    "doc.content"
   ]
  },
  {
   "cell_type": "code",
   "execution_count": null,
   "id": "7ce3e28a-ac93-4c16-bb47-67ad4f616ef4",
   "metadata": {},
   "outputs": [],
   "source": [
    "## URLs para revisar implementación de NGrok\n",
    "\"\"\"\n",
    "https://ngrok.com/\n",
    "https://adamj.eu/tech/2021/05/09/how-to-build-a-webhook-receiver-in-django/\n",
    "https://swapps.com/blog/how-to-add-webhooks-to-a-django-project-and-test-them-locally/\n",
    "https://tech.osteel.me/posts/docker-for-local-web-development-part-6-expose-a-local-container-to-the-internet\n",
    "\"\"\""
   ]
  },
  {
   "cell_type": "code",
   "execution_count": null,
   "id": "5a6b96a3-e3dc-4455-a569-8e6139e97fb3",
   "metadata": {},
   "outputs": [],
   "source": [
    "def _crear_url(endpoint: str):\n",
    "    \"\"\"Metodo auxiliar para crear la URL del endpoint de manera dinamica.\n",
    "\n",
    "    Args:\n",
    "        endpoint (str): URL del enpoint, se requiere que incluya el caracter '/'.\n",
    "\n",
    "    Returns:\n",
    "        str: La URL construida dinamicamente, usando la base de la instancia y el endpoint a llamar.\n",
    "    \"\"\"\n",
    "    return f\"{dev_url}{endpoint}\"\n",
    "\n",
    "def _establecer_conexion(\n",
    "        endpoint: str,\n",
    "        privado: bool = False,\n",
    "        accion: str = \"get\",\n",
    "        payload: dict = None,\n",
    "    ):\n",
    "    \"\"\"Metodo de clase del modelo, que establece la conexión con el\n",
    "\n",
    "    Args:\n",
    "        endpoint (str): cadena final del endpoint\n",
    "        privado (bool, optional): variable usada para definir los headers, que cambian de acuerdo\n",
    "                                a lo que requiera el endpoint invocado. Defaults to False.\n",
    "        accion (str, optional): verbo de llamada requerido en el endpoint. Defaults to \"get\".\n",
    "        payload (dict, optional): diccionario. Defaults to None.\n",
    "\n",
    "    Returns:\n",
    "        Dict[str, Any]: Objeto tipo String con el token de autenticación requerido para las consultas.\n",
    "    \"\"\"\n",
    "    shared_head = {\"Accept\": \"application/json\", \"Content-Type\": \"application/json\"}\n",
    "    public_headers = shared_head | {\n",
    "        \"Authorization\": public_key,\n",
    "    }\n",
    "    private_headers = shared_head | {\n",
    "        \"Authorization\": private_key,\n",
    "    }\n",
    "    headers = private_headers if privado else public_headers\n",
    "    try:\n",
    "        if accion == \"get\":\n",
    "            response = requests.get(_crear_url(endpoint), headers=headers)\n",
    "            response.raise_for_status()\n",
    "\n",
    "        elif accion == \"post\":\n",
    "            response = requests.post(\n",
    "                _crear_url(endpoint), headers=headers, json=payload\n",
    "            )\n",
    "            response.raise_for_status()\n",
    "    except Exception as e:\n",
    "        print(\"Upppsss\", e)\n",
    "    \n",
    "    return response.json()"
   ]
  },
  {
   "cell_type": "code",
   "execution_count": null,
   "id": "0131b990-b70f-47ae-ab6b-338eb3c49e1f",
   "metadata": {},
   "outputs": [],
   "source": [
    "payload_company = {\n",
    "            \"webhook\": getenv(\"URL_NGROK\"),\n",
    "            \"webhookHeader\": {\n",
    "                \"Authorization\": getenv(\"TOKEN_TEMP_AUCO\"),\n",
    "            },\n",
    "        }\n",
    "another_payload = {\n",
    "            \"webhook\": \"https://c430-181-62-52-115.ngrok.io/api/documento\"\n",
    "        }\n",
    "and_other_one = {\n",
    "            \"webhook\": \"https://c430-181-62-52-115.ngrok.io/api/documento\",\n",
    "            \"webhookHeader\": \"NJxkpL9dP!naYnb?zigFc&C@a#tXY5iNy9rNq8Nc\",\n",
    "        }"
   ]
  },
  {
   "cell_type": "code",
   "execution_count": null,
   "id": "c7409869-0636-4832-9938-a4ed25bcfa69",
   "metadata": {},
   "outputs": [],
   "source": [
    "_establecer_conexion(\"document/upload\", privado=True, accion=\"post\", payload=payload)"
   ]
  },
  {
   "cell_type": "code",
   "execution_count": null,
   "id": "fbe20ce3-0d31-429e-8d27-a0b8756b470a",
   "metadata": {},
   "outputs": [],
   "source": [
    "response = requests.put(\"https://dev.auco.ai/v1/ext/company\", headers=private_header, json=and_other_one)"
   ]
  },
  {
   "cell_type": "code",
   "execution_count": null,
   "id": "73943fc1-83a4-4c7d-a053-d0b1f070f457",
   "metadata": {},
   "outputs": [],
   "source": [
    "response.json()"
   ]
  },
  {
   "cell_type": "code",
   "execution_count": null,
   "id": "dae4d596-8570-4d08-a4b9-39d13ad0cffa",
   "metadata": {},
   "outputs": [],
   "source": [
    "payload = {\n",
    "    \"codes\": \"GXN8MQLW75\",\n",
    "    \"message\": \"Cancelación manual por el usuario\"\n",
    "}\n",
    "\n",
    "def cancelar_firmar_documento():\n",
    "        payload = {\n",
    "            \"codes\": [\"aksdjhfalkjdhf\",],\n",
    "            \"message\": \"Cancelación manual por el usuario\",\n",
    "        }\n",
    "        respuesta = _establecer_conexion(\n",
    "            \"document/cancel\", privado=True, accion=\"post\", payload=payload\n",
    "        )\n",
    "        return respuesta"
   ]
  },
  {
   "cell_type": "code",
   "execution_count": null,
   "id": "02ee860c-3499-468f-a8ba-a7292f51f69e",
   "metadata": {},
   "outputs": [],
   "source": [
    "cancelar_firmar_documento()"
   ]
  },
  {
   "cell_type": "code",
   "execution_count": null,
   "id": "e5e8548d-1adf-4088-8d88-4f9cea41d206",
   "metadata": {},
   "outputs": [],
   "source": []
  }
 ],
 "metadata": {
  "kernelspec": {
   "display_name": "Python 3 (ipykernel)",
   "language": "python",
   "name": "python3"
  },
  "language_info": {
   "codemirror_mode": {
    "name": "ipython",
    "version": 3
   },
   "file_extension": ".py",
   "mimetype": "text/x-python",
   "name": "python",
   "nbconvert_exporter": "python",
   "pygments_lexer": "ipython3",
   "version": "3.9.15"
  }
 },
 "nbformat": 4,
 "nbformat_minor": 5
}
