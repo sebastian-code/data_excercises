{
 "cells": [
  {
   "cell_type": "code",
   "execution_count": 1,
   "id": "ac3d436f-eb2a-4433-bae5-f7e0d9ceac7a",
   "metadata": {},
   "outputs": [],
   "source": [
    "import base64\n",
    "import requests\n",
    "from os import getenv\n",
    "from dotenv import load_dotenv"
   ]
  },
  {
   "cell_type": "code",
   "execution_count": 2,
   "id": "57a1dcb8-2c32-4bb5-8bdc-fffefab1cb7f",
   "metadata": {},
   "outputs": [
    {
     "data": {
      "text/plain": [
       "True"
      ]
     },
     "execution_count": 2,
     "metadata": {},
     "output_type": "execute_result"
    }
   ],
   "source": [
    "load_dotenv()"
   ]
  },
  {
   "cell_type": "code",
   "execution_count": 3,
   "id": "f64f4f9a-2a5d-4faf-b377-352a2d85147b",
   "metadata": {},
   "outputs": [],
   "source": [
    "public_key = getenv(\"PUBLIC_KEY\")\n",
    "private_key = getenv(\"PRIVATE_KEY\")\n",
    "dev_url = getenv(\"DEV_URL\")\n",
    "prod_url = getenv(\"PROD_URL\")\n",
    "header = header = {\n",
    "    \"Accept\": \"application/json\",\n",
    "    \"Content-Type\": \"application/json\"\n",
    "}\n",
    "public_header = header | {\n",
    "    \"Authorization\": public_key,\n",
    "}\n",
    "private_header =  header | {\n",
    "    \"Authorization\": private_key,\n",
    "}"
   ]
  },
  {
   "cell_type": "code",
   "execution_count": 4,
   "id": "d00e897e-b7bb-4557-ab67-e83126e783b7",
   "metadata": {},
   "outputs": [],
   "source": [
    "response = requests.get(f\"{dev_url}/company\", headers=public_header)"
   ]
  },
  {
   "cell_type": "code",
   "execution_count": 5,
   "id": "f71aeef7-f592-4ae2-8f09-faf0a26bd2a7",
   "metadata": {},
   "outputs": [
    {
     "data": {
      "text/plain": [
       "'{\"name\":\"Dora!\",\"webhook\":\"\",\"webhookHeader\":\"\",\"uxOptions\":{},\"image\":\"\",\"customEmail\":false}'"
      ]
     },
     "execution_count": 5,
     "metadata": {},
     "output_type": "execute_result"
    }
   ],
   "source": [
    "response.text"
   ]
  },
  {
   "cell_type": "code",
   "execution_count": null,
   "id": "8e56e3ff-5974-40b2-a006-1dcf7a4e9b69",
   "metadata": {},
   "outputs": [],
   "source": [
    "with open(\"yourfile.ext\", \"rb\") as image_file:\n",
    "    encoded_string = base64.b64encode(image_file.read())"
   ]
  }
 ],
 "metadata": {
  "kernelspec": {
   "display_name": "Python 3 (ipykernel)",
   "language": "python",
   "name": "python3"
  },
  "language_info": {
   "codemirror_mode": {
    "name": "ipython",
    "version": 3
   },
   "file_extension": ".py",
   "mimetype": "text/x-python",
   "name": "python",
   "nbconvert_exporter": "python",
   "pygments_lexer": "ipython3",
   "version": "3.9.15"
  }
 },
 "nbformat": 4,
 "nbformat_minor": 5
}
