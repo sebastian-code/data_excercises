{
 "cells": [
  {
   "cell_type": "markdown",
   "metadata": {
    "colab_type": "text",
    "id": "view-in-github"
   },
   "source": [
    "<a href=\"https://colab.research.google.com/github/hamletbatista/inbound/blob/master/CheatSheet_Exporting_to_Sheets.ipynb\" target=\"_parent\"><img src=\"https://colab.research.google.com/assets/colab-badge.svg\" alt=\"Open In Colab\"/></a>"
   ]
  },
  {
   "cell_type": "markdown",
   "metadata": {
    "colab_type": "text",
    "id": "PAjtBvsafjX-"
   },
   "source": [
    "#Exporting-to-Sheets 101 with Python\n",
    "\n",
    "Tool: https://colab.research.google.com/notebooks/data_table.ipynb\n",
    "\n",
    "\n",
    "Libraries\n",
    "\n",
    "1. Pandas\n",
    "2. Gspread\n",
    "3. Gspread-pandas"
   ]
  },
  {
   "cell_type": "code",
   "execution_count": null,
   "metadata": {
    "colab": {},
    "colab_type": "code",
    "id": "HyodGMK4gE-B"
   },
   "outputs": [],
   "source": [
    "from google.colab import files\n",
    "\n",
    "files.upload()"
   ]
  },
  {
   "cell_type": "code",
   "execution_count": null,
   "metadata": {
    "colab": {
     "base_uri": "https://localhost:8080/",
     "height": 34
    },
    "colab_type": "code",
    "id": "bqIhvQUS1VCc",
    "outputId": "b4d367e7-26c7-4ea5-a109-a82ceacce9d1"
   },
   "outputs": [
    {
     "name": "stdout",
     "output_type": "stream",
     "text": [
      "sample_data  themes_seo.pkl\n"
     ]
    }
   ],
   "source": [
    "!ls"
   ]
  },
  {
   "cell_type": "code",
   "execution_count": null,
   "metadata": {
    "colab": {},
    "colab_type": "code",
    "id": "sV2uPaO41aXI"
   },
   "outputs": [],
   "source": [
    "import pickle"
   ]
  },
  {
   "cell_type": "code",
   "execution_count": null,
   "metadata": {
    "colab": {},
    "colab_type": "code",
    "id": "OFDHDj3b1dJB"
   },
   "outputs": [],
   "source": [
    "with open('themes_seo.pkl', 'rb') as f:\n",
    "\n",
    "  themes_seo = pickle.load(f)"
   ]
  },
  {
   "cell_type": "code",
   "execution_count": null,
   "metadata": {
    "colab": {
     "base_uri": "https://localhost:8080/",
     "height": 54
    },
    "colab_type": "code",
    "id": "d42-4UTy1x-S",
    "outputId": "aaa092b3-5971-408a-b9bb-28f4fd4d0283"
   },
   "outputs": [
    {
     "data": {
      "text/plain": [
       "dict_keys(['Prestige', 'Reach', 'Avenue', 'Empire', 'Focal', 'Mr Parker', 'Label', 'Debut', 'Grid', 'Icon', 'Boost', 'Capital', 'Cascade', 'Flow', 'Minimal', 'Editorial', 'Streamline', 'Mobilia', 'District', 'Editions', 'Testament', 'Artisan', 'Canopy', 'theme', 'Context', 'Expression', 'Narrative', 'Galleria', 'Pacific', 'Supply', 'Symmetry', 'Startup', 'Emerge', 'Handy', 'Loft', 'Story', 'Trademark', 'Vantage', 'Impulse', 'Kingdom', 'Envy', 'Maker', 'Venture', 'Pipeline', 'Responsive', 'Split', 'Motion', 'Lorenza', 'Ira', 'Alchemy', 'Masonry', 'Boundless', 'Brooklyn', 'Blockshop', 'Palo Alto', 'Vogue', 'ShowTime', 'Broadcast', 'Parallax', 'Providence', 'Warehouse', 'Simple', 'California', 'Sunrise', 'Launch', 'Retina', 'Colors', 'Kagami', 'Modular', 'Venue', 'Fashionopolism', 'Atlantic', 'Showcase', 'Express'])"
      ]
     },
     "execution_count": 4,
     "metadata": {
      "tags": []
     },
     "output_type": "execute_result"
    }
   ],
   "source": [
    "themes_seo.keys()"
   ]
  },
  {
   "cell_type": "code",
   "execution_count": null,
   "metadata": {
    "colab": {},
    "colab_type": "code",
    "id": "s-GMpIKl10ba"
   },
   "outputs": [],
   "source": [
    "\n",
    "!pip install git+https://github.com/aiguofer/gspread-pandas.git\n"
   ]
  },
  {
   "cell_type": "code",
   "execution_count": null,
   "metadata": {
    "colab": {},
    "colab_type": "code",
    "id": "qip3LJFK2qXa"
   },
   "outputs": [],
   "source": [
    "# Authenticate (copy & paste key as detailed)\n",
    "from google.colab import auth\n",
    "auth.authenticate_user()\n",
    "import gspread\n",
    "from oauth2client.client import GoogleCredentials"
   ]
  },
  {
   "cell_type": "code",
   "execution_count": null,
   "metadata": {
    "colab": {},
    "colab_type": "code",
    "id": "mKj8kC342-zP"
   },
   "outputs": [],
   "source": [
    "from gspread_pandas import Spread, Client"
   ]
  },
  {
   "cell_type": "code",
   "execution_count": null,
   "metadata": {
    "colab": {},
    "colab_type": "code",
    "id": "qkmUP8-j3Ify"
   },
   "outputs": [],
   "source": [
    "creds = GoogleCredentials.get_application_default()"
   ]
  },
  {
   "cell_type": "code",
   "execution_count": null,
   "metadata": {
    "colab": {},
    "colab_type": "code",
    "id": "Djdgj6M43Lc0"
   },
   "outputs": [],
   "source": [
    "spread = Spread(\"INBOUND2020\", creds=creds)\n"
   ]
  },
  {
   "cell_type": "code",
   "execution_count": null,
   "metadata": {
    "colab": {
     "base_uri": "https://localhost:8080/",
     "height": 34
    },
    "colab_type": "code",
    "id": "hIuiK9UK5lxZ",
    "outputId": "23d4bdd8-9c84-40f2-d65e-dccce77e515b"
   },
   "outputs": [
    {
     "name": "stdout",
     "output_type": "stream",
     "text": [
      "sample_data  themes_seo.pkl\n"
     ]
    }
   ],
   "source": [
    "!ls"
   ]
  },
  {
   "cell_type": "code",
   "execution_count": null,
   "metadata": {
    "colab": {
     "base_uri": "https://localhost:8080/",
     "height": 598
    },
    "colab_type": "code",
    "id": "GELopxAd5-8l",
    "outputId": "7bf43a85-c016-4e33-a304-fc704dc3af78"
   },
   "outputs": [
    {
     "data": {
      "text/plain": [
       "[{'seo_score': 0.76},\n",
       " {'audit': 'is-crawlable',\n",
       "  'audit_description': \"Search engines are unable to include your pages in search results if they don't have permission to crawl them. [Learn more](https://web.dev/is-crawable).\",\n",
       "  'audit_score': 0,\n",
       "  'audit_title': 'Page is blocked from indexing'},\n",
       " {'audit': 'meta-description',\n",
       "  'audit_description': 'Meta descriptions may be included in search results to concisely summarize page content. [Learn more](https://web.dev/meta-description).',\n",
       "  'audit_score': 0,\n",
       "  'audit_title': 'Document does not have a meta description'},\n",
       " {'audit': 'hreflang',\n",
       "  'audit_description': 'hreflang links tell search engines what version of a page they should list in search results for a given language or region. [Learn more](https://web.dev/hreflang).',\n",
       "  'audit_score': 1,\n",
       "  'audit_title': 'Document has a valid `hreflang`'},\n",
       " {'audit': 'canonical',\n",
       "  'audit_description': 'Canonical links suggest which URL to show in search results. [Learn more](https://web.dev/canonical).',\n",
       "  'audit_score': 1,\n",
       "  'audit_title': 'Document has a valid `rel=canonical`'},\n",
       " {'audit': 'document-title',\n",
       "  'audit_description': 'The title gives screen reader users an overview of the page, and search engine users rely on it heavily to determine if a page is relevant to their search. [Learn more](https://web.dev/document-title/).',\n",
       "  'audit_score': 1,\n",
       "  'audit_title': 'Document has a `<title>` element'},\n",
       " {'audit': 'image-alt',\n",
       "  'audit_description': 'Informative elements should aim for short, descriptive alternate text. Decorative elements can be ignored with an empty alt attribute. [Learn more](https://web.dev/image-alt/).',\n",
       "  'audit_score': 1,\n",
       "  'audit_title': 'Image elements have `[alt]` attributes'},\n",
       " {'audit': 'structured-data',\n",
       "  'audit_description': 'Run the [Structured Data Testing Tool](https://search.google.com/structured-data/testing-tool/) and the [Structured Data Linter](http://linter.structured-data.org/) to validate structured data. [Learn more](https://web.dev/structured-data).',\n",
       "  'audit_score': None,\n",
       "  'audit_title': 'Structured data is valid'},\n",
       " {'audit': 'tap-targets',\n",
       "  'audit_description': 'Interactive elements like buttons and links should be large enough (48x48px), and have enough space around them, to be easy enough to tap without overlapping onto other elements. [Learn more](https://web.dev/tap-targets).',\n",
       "  'audit_score': 0.87,\n",
       "  'audit_title': 'Tap targets are not sized appropriately'}]"
      ]
     },
     "execution_count": 8,
     "metadata": {
      "tags": []
     },
     "output_type": "execute_result"
    }
   ],
   "source": [
    "themes_seo[\"Prestige\"]"
   ]
  },
  {
   "cell_type": "code",
   "execution_count": null,
   "metadata": {
    "colab": {},
    "colab_type": "code",
    "id": "n4Z2noqf6sRx"
   },
   "outputs": [],
   "source": [
    "import pandas as pd"
   ]
  },
  {
   "cell_type": "code",
   "execution_count": null,
   "metadata": {
    "colab": {},
    "colab_type": "code",
    "id": "_LmJkGof6QC9"
   },
   "outputs": [],
   "source": [
    "#https://colab.research.google.com/notebooks/data_table.ipynb\n",
    "%load_ext google.colab.data_table\n"
   ]
  },
  {
   "cell_type": "code",
   "execution_count": null,
   "metadata": {
    "colab": {},
    "colab_type": "code",
    "id": "b7jceSPl63Ng"
   },
   "outputs": [],
   "source": [
    "seo_score = themes_seo[\"Prestige\"][0]"
   ]
  },
  {
   "cell_type": "code",
   "execution_count": null,
   "metadata": {
    "colab": {
     "base_uri": "https://localhost:8080/",
     "height": 34
    },
    "colab_type": "code",
    "id": "ctkU-emx7K2t",
    "outputId": "4050692e-c71b-40e0-d1db-8a7974c6d69a"
   },
   "outputs": [
    {
     "data": {
      "text/plain": [
       "{'seo_score': 0.76}"
      ]
     },
     "execution_count": 12,
     "metadata": {
      "tags": []
     },
     "output_type": "execute_result"
    }
   ],
   "source": [
    "seo_score"
   ]
  },
  {
   "cell_type": "code",
   "execution_count": null,
   "metadata": {
    "colab": {},
    "colab_type": "code",
    "id": "Y_Oil8wH7MkR"
   },
   "outputs": [],
   "source": [
    "df = pd.DataFrame(themes_seo[\"Prestige\"][1:])"
   ]
  },
  {
   "cell_type": "code",
   "execution_count": null,
   "metadata": {
    "colab": {
     "base_uri": "https://localhost:8080/",
     "height": 401
    },
    "colab_type": "code",
    "id": "tTFGcXTk7Rio",
    "outputId": "22118421-4396-4c46-cf3d-57dd6e596943"
   },
   "outputs": [
    {
     "data": {
      "application/vnd.google.colaboratory.module+javascript": "\n      import \"https://ssl.gstatic.com/colaboratory/data_table/a6224c040fa35dcf/data_table.js\";\n\n      window.createDataTable({\n        data: [[{\n            'v': 0,\n            'f': \"0\",\n        },\n\"is-crawlable\",\n\"Page is blocked from indexing\",\n\"Search engines are unable to include your pages in search results if they don't have permission to crawl them. [Learn more](https://web.dev/is-crawable).\",\n{\n            'v': 0.0,\n            'f': \"0.0\",\n        }],\n [{\n            'v': 1,\n            'f': \"1\",\n        },\n\"meta-description\",\n\"Document does not have a meta description\",\n\"Meta descriptions may be included in search results to concisely summarize page content. [Learn more](https://web.dev/meta-description).\",\n{\n            'v': 0.0,\n            'f': \"0.0\",\n        }],\n [{\n            'v': 2,\n            'f': \"2\",\n        },\n\"hreflang\",\n\"Document has a valid `hreflang`\",\n\"hreflang links tell search engines what version of a page they should list in search results for a given language or region. [Learn more](https://web.dev/hreflang).\",\n{\n            'v': 1.0,\n            'f': \"1.0\",\n        }],\n [{\n            'v': 3,\n            'f': \"3\",\n        },\n\"canonical\",\n\"Document has a valid `rel=canonical`\",\n\"Canonical links suggest which URL to show in search results. [Learn more](https://web.dev/canonical).\",\n{\n            'v': 1.0,\n            'f': \"1.0\",\n        }],\n [{\n            'v': 4,\n            'f': \"4\",\n        },\n\"document-title\",\n\"Document has a `<title>` element\",\n\"The title gives screen reader users an overview of the page, and search engine users rely on it heavily to determine if a page is relevant to their search. [Learn more](https://web.dev/document-title/).\",\n{\n            'v': 1.0,\n            'f': \"1.0\",\n        }],\n [{\n            'v': 5,\n            'f': \"5\",\n        },\n\"image-alt\",\n\"Image elements have `[alt]` attributes\",\n\"Informative elements should aim for short, descriptive alternate text. Decorative elements can be ignored with an empty alt attribute. [Learn more](https://web.dev/image-alt/).\",\n{\n            'v': 1.0,\n            'f': \"1.0\",\n        }],\n [{\n            'v': 6,\n            'f': \"6\",\n        },\n\"structured-data\",\n\"Structured data is valid\",\n\"Run the [Structured Data Testing Tool](https://search.google.com/structured-data/testing-tool/) and the [Structured Data Linter](http://linter.structured-data.org/) to validate structured data. [Learn more](https://web.dev/structured-data).\",\n{\n            'v': NaN,\n            'f': \"NaN\",\n        }],\n [{\n            'v': 7,\n            'f': \"7\",\n        },\n\"tap-targets\",\n\"Tap targets are not sized appropriately\",\n\"Interactive elements like buttons and links should be large enough (48x48px), and have enough space around them, to be easy enough to tap without overlapping onto other elements. [Learn more](https://web.dev/tap-targets).\",\n{\n            'v': 0.87,\n            'f': \"0.87\",\n        }]],\n        columns: [[\"number\", \"index\"], [\"string\", \"audit\"], [\"string\", \"audit_title\"], [\"string\", \"audit_description\"], [\"number\", \"audit_score\"]],\n        columnOptions: [{\"width\": \"1px\", \"className\": \"index_column\"}],\n        rowsPerPage: 25,\n        helpUrl: \"https://colab.research.google.com/notebooks/data_table.ipynb\",\n        suppressOutputScrolling: true,\n        minimumWidth: undefined,\n      });\n    ",
      "text/html": [
       "<div>\n",
       "<style scoped>\n",
       "    .dataframe tbody tr th:only-of-type {\n",
       "        vertical-align: middle;\n",
       "    }\n",
       "\n",
       "    .dataframe tbody tr th {\n",
       "        vertical-align: top;\n",
       "    }\n",
       "\n",
       "    .dataframe thead th {\n",
       "        text-align: right;\n",
       "    }\n",
       "</style>\n",
       "<table border=\"1\" class=\"dataframe\">\n",
       "  <thead>\n",
       "    <tr style=\"text-align: right;\">\n",
       "      <th></th>\n",
       "      <th>audit</th>\n",
       "      <th>audit_title</th>\n",
       "      <th>audit_description</th>\n",
       "      <th>audit_score</th>\n",
       "    </tr>\n",
       "  </thead>\n",
       "  <tbody>\n",
       "    <tr>\n",
       "      <th>0</th>\n",
       "      <td>is-crawlable</td>\n",
       "      <td>Page is blocked from indexing</td>\n",
       "      <td>Search engines are unable to include your page...</td>\n",
       "      <td>0.00</td>\n",
       "    </tr>\n",
       "    <tr>\n",
       "      <th>1</th>\n",
       "      <td>meta-description</td>\n",
       "      <td>Document does not have a meta description</td>\n",
       "      <td>Meta descriptions may be included in search re...</td>\n",
       "      <td>0.00</td>\n",
       "    </tr>\n",
       "    <tr>\n",
       "      <th>2</th>\n",
       "      <td>hreflang</td>\n",
       "      <td>Document has a valid `hreflang`</td>\n",
       "      <td>hreflang links tell search engines what versio...</td>\n",
       "      <td>1.00</td>\n",
       "    </tr>\n",
       "    <tr>\n",
       "      <th>3</th>\n",
       "      <td>canonical</td>\n",
       "      <td>Document has a valid `rel=canonical`</td>\n",
       "      <td>Canonical links suggest which URL to show in s...</td>\n",
       "      <td>1.00</td>\n",
       "    </tr>\n",
       "    <tr>\n",
       "      <th>4</th>\n",
       "      <td>document-title</td>\n",
       "      <td>Document has a `&lt;title&gt;` element</td>\n",
       "      <td>The title gives screen reader users an overvie...</td>\n",
       "      <td>1.00</td>\n",
       "    </tr>\n",
       "    <tr>\n",
       "      <th>5</th>\n",
       "      <td>image-alt</td>\n",
       "      <td>Image elements have `[alt]` attributes</td>\n",
       "      <td>Informative elements should aim for short, des...</td>\n",
       "      <td>1.00</td>\n",
       "    </tr>\n",
       "    <tr>\n",
       "      <th>6</th>\n",
       "      <td>structured-data</td>\n",
       "      <td>Structured data is valid</td>\n",
       "      <td>Run the [Structured Data Testing Tool](https:/...</td>\n",
       "      <td>NaN</td>\n",
       "    </tr>\n",
       "    <tr>\n",
       "      <th>7</th>\n",
       "      <td>tap-targets</td>\n",
       "      <td>Tap targets are not sized appropriately</td>\n",
       "      <td>Interactive elements like buttons and links sh...</td>\n",
       "      <td>0.87</td>\n",
       "    </tr>\n",
       "  </tbody>\n",
       "</table>\n",
       "</div>"
      ],
      "text/plain": [
       "              audit  ... audit_score\n",
       "0      is-crawlable  ...        0.00\n",
       "1  meta-description  ...        0.00\n",
       "2          hreflang  ...        1.00\n",
       "3         canonical  ...        1.00\n",
       "4    document-title  ...        1.00\n",
       "5         image-alt  ...        1.00\n",
       "6   structured-data  ...         NaN\n",
       "7       tap-targets  ...        0.87\n",
       "\n",
       "[8 rows x 4 columns]"
      ]
     },
     "execution_count": 14,
     "metadata": {
      "tags": []
     },
     "output_type": "execute_result"
    }
   ],
   "source": [
    "df"
   ]
  },
  {
   "cell_type": "code",
   "execution_count": null,
   "metadata": {
    "colab": {
     "base_uri": "https://localhost:8080/",
     "height": 34
    },
    "colab_type": "code",
    "id": "p1eye_8W7V0n",
    "outputId": "d247cc8c-e119-40db-a008-2a9484af1a15"
   },
   "outputs": [
    {
     "data": {
      "text/plain": [
       "74"
      ]
     },
     "execution_count": 15,
     "metadata": {
      "tags": []
     },
     "output_type": "execute_result"
    }
   ],
   "source": [
    "len(themes_seo)"
   ]
  },
  {
   "cell_type": "markdown",
   "metadata": {
    "colab_type": "text",
    "id": "X86Av4qt753h"
   },
   "source": [
    "### Adding theme data to Sheet"
   ]
  },
  {
   "cell_type": "code",
   "execution_count": null,
   "metadata": {
    "colab": {},
    "colab_type": "code",
    "id": "X7vuNQdU78vb"
   },
   "outputs": [],
   "source": [
    "for theme_name, audits in themes_seo.items():\n",
    "  seo_score = audits[0]\n",
    "  df = pd.DataFrame(audits[1:])\n",
    "\n",
    "  spread.df_to_sheet(df, index=False, sheet=theme_name, start='A1', replace=True)\n",
    "\n"
   ]
  },
  {
   "cell_type": "code",
   "execution_count": null,
   "metadata": {
    "colab": {
     "base_uri": "https://localhost:8080/",
     "height": 54
    },
    "colab_type": "code",
    "id": "xjJD9cal9AG6",
    "outputId": "ecb2ae17-ccfa-41f6-fefc-17ea7b87ee5e"
   },
   "outputs": [
    {
     "data": {
      "text/plain": [
       "dict_keys(['Prestige', 'Reach', 'Avenue', 'Empire', 'Focal', 'Mr Parker', 'Label', 'Debut', 'Grid', 'Icon', 'Boost', 'Capital', 'Cascade', 'Flow', 'Minimal', 'Editorial', 'Streamline', 'Mobilia', 'District', 'Editions', 'Testament', 'Artisan', 'Canopy', 'theme', 'Context', 'Expression', 'Narrative', 'Galleria', 'Pacific', 'Supply', 'Symmetry', 'Startup', 'Emerge', 'Handy', 'Loft', 'Story', 'Trademark', 'Vantage', 'Impulse', 'Kingdom', 'Envy', 'Maker', 'Venture', 'Pipeline', 'Responsive', 'Split', 'Motion', 'Lorenza', 'Ira', 'Alchemy', 'Masonry', 'Boundless', 'Brooklyn', 'Blockshop', 'Palo Alto', 'Vogue', 'ShowTime', 'Broadcast', 'Parallax', 'Providence', 'Warehouse', 'Simple', 'California', 'Sunrise', 'Launch', 'Retina', 'Colors', 'Kagami', 'Modular', 'Venue', 'Fashionopolism', 'Atlantic', 'Showcase', 'Express'])"
      ]
     },
     "execution_count": 23,
     "metadata": {
      "tags": []
     },
     "output_type": "execute_result"
    }
   ],
   "source": [
    "themes_seo.keys()"
   ]
  },
  {
   "cell_type": "code",
   "execution_count": null,
   "metadata": {
    "colab": {},
    "colab_type": "code",
    "id": "6MEnP89u-GDB"
   },
   "outputs": [],
   "source": [
    "new_format = list()\n",
    "\n",
    "for name in themes_seo.keys():\n",
    "\n",
    "  if name == \"theme\":\n",
    "    continue\n",
    "\n",
    "  theme_info = dict()\n",
    "\n",
    "  for row in themes_seo[name][1:]:\n",
    "    # Repeat for each audit\n",
    "    score = themes_seo[name][0]\n",
    "    theme_info[\"name\"] = name\n",
    "    theme_info[\"score\"] = score[\"seo_score\"]\n",
    "    \n",
    "    #theme_info[k] = v\n",
    "    audit_name = row[\"audit\"]\n",
    "    audit_title = row[\"audit_title\"]\n",
    "    audit_description = row[\"audit_description\"]\n",
    "    audit_score = row[\"audit_score\"]\n",
    "\n",
    "    theme_info[audit_name] = audit_title #audit_title, audit_description, audit_score\n",
    "    theme_info[f\"{audit_name}_description\"] = audit_description\n",
    "    theme_info[f\"{audit_name}_score\"] = audit_score\n",
    "\n",
    "  new_format.append(theme_info)\n",
    "  "
   ]
  },
  {
   "cell_type": "code",
   "execution_count": null,
   "metadata": {
    "colab": {},
    "colab_type": "code",
    "id": "07FpAjUG_j3I"
   },
   "outputs": [],
   "source": [
    "new_format"
   ]
  },
  {
   "cell_type": "code",
   "execution_count": null,
   "metadata": {
    "colab": {},
    "colab_type": "code",
    "id": "l5Q8MSutCOv3"
   },
   "outputs": [],
   "source": [
    "df = pd.DataFrame(new_format)"
   ]
  },
  {
   "cell_type": "code",
   "execution_count": null,
   "metadata": {
    "colab": {
     "base_uri": "https://localhost:8080/",
     "height": 1000
    },
    "colab_type": "code",
    "id": "x4fzXUZOCtSy",
    "outputId": "edeb3473-279f-4db0-cd64-ebd84074a16f"
   },
   "outputs": [
    {
     "data": {
      "text/html": [
       "<div>\n",
       "<style scoped>\n",
       "    .dataframe tbody tr th:only-of-type {\n",
       "        vertical-align: middle;\n",
       "    }\n",
       "\n",
       "    .dataframe tbody tr th {\n",
       "        vertical-align: top;\n",
       "    }\n",
       "\n",
       "    .dataframe thead th {\n",
       "        text-align: right;\n",
       "    }\n",
       "</style>\n",
       "<table border=\"1\" class=\"dataframe\">\n",
       "  <thead>\n",
       "    <tr style=\"text-align: right;\">\n",
       "      <th></th>\n",
       "      <th>name</th>\n",
       "      <th>score</th>\n",
       "      <th>is-crawlable</th>\n",
       "      <th>is-crawlable_description</th>\n",
       "      <th>is-crawlable_score</th>\n",
       "      <th>meta-description</th>\n",
       "      <th>meta-description_description</th>\n",
       "      <th>meta-description_score</th>\n",
       "      <th>hreflang</th>\n",
       "      <th>hreflang_description</th>\n",
       "      <th>hreflang_score</th>\n",
       "      <th>canonical</th>\n",
       "      <th>canonical_description</th>\n",
       "      <th>canonical_score</th>\n",
       "      <th>document-title</th>\n",
       "      <th>document-title_description</th>\n",
       "      <th>document-title_score</th>\n",
       "      <th>image-alt</th>\n",
       "      <th>image-alt_description</th>\n",
       "      <th>image-alt_score</th>\n",
       "      <th>structured-data</th>\n",
       "      <th>structured-data_description</th>\n",
       "      <th>structured-data_score</th>\n",
       "      <th>tap-targets</th>\n",
       "      <th>tap-targets_description</th>\n",
       "      <th>tap-targets_score</th>\n",
       "    </tr>\n",
       "  </thead>\n",
       "  <tbody>\n",
       "    <tr>\n",
       "      <th>0</th>\n",
       "      <td>Prestige</td>\n",
       "      <td>0.76</td>\n",
       "      <td>Page is blocked from indexing</td>\n",
       "      <td>Search engines are unable to include your page...</td>\n",
       "      <td>0</td>\n",
       "      <td>Document does not have a meta description</td>\n",
       "      <td>Meta descriptions may be included in search re...</td>\n",
       "      <td>0</td>\n",
       "      <td>Document has a valid `hreflang`</td>\n",
       "      <td>hreflang links tell search engines what versio...</td>\n",
       "      <td>1</td>\n",
       "      <td>Document has a valid `rel=canonical`</td>\n",
       "      <td>Canonical links suggest which URL to show in s...</td>\n",
       "      <td>1</td>\n",
       "      <td>Document has a `&lt;title&gt;` element</td>\n",
       "      <td>The title gives screen reader users an overvie...</td>\n",
       "      <td>1</td>\n",
       "      <td>Image elements have `[alt]` attributes</td>\n",
       "      <td>Informative elements should aim for short, des...</td>\n",
       "      <td>1</td>\n",
       "      <td>Structured data is valid</td>\n",
       "      <td>Run the [Structured Data Testing Tool](https:/...</td>\n",
       "      <td>None</td>\n",
       "      <td>Tap targets are not sized appropriately</td>\n",
       "      <td>Interactive elements like buttons and links sh...</td>\n",
       "      <td>0.87</td>\n",
       "    </tr>\n",
       "    <tr>\n",
       "      <th>1</th>\n",
       "      <td>Reach</td>\n",
       "      <td>0.76</td>\n",
       "      <td>Page isn’t blocked from indexing</td>\n",
       "      <td>Search engines are unable to include your page...</td>\n",
       "      <td>1</td>\n",
       "      <td>Document does not have a meta description</td>\n",
       "      <td>Meta descriptions may be included in search re...</td>\n",
       "      <td>0</td>\n",
       "      <td>Document has a valid `hreflang`</td>\n",
       "      <td>hreflang links tell search engines what versio...</td>\n",
       "      <td>1</td>\n",
       "      <td>Document has a valid `rel=canonical`</td>\n",
       "      <td>Canonical links suggest which URL to show in s...</td>\n",
       "      <td>1</td>\n",
       "      <td>Document has a `&lt;title&gt;` element</td>\n",
       "      <td>The title gives screen reader users an overvie...</td>\n",
       "      <td>1</td>\n",
       "      <td>Image elements do not have `[alt]` attributes</td>\n",
       "      <td>Informative elements should aim for short, des...</td>\n",
       "      <td>0</td>\n",
       "      <td>Structured data is valid</td>\n",
       "      <td>Run the [Structured Data Testing Tool](https:/...</td>\n",
       "      <td>None</td>\n",
       "      <td>Tap targets are not sized appropriately</td>\n",
       "      <td>Interactive elements like buttons and links sh...</td>\n",
       "      <td>0.82</td>\n",
       "    </tr>\n",
       "    <tr>\n",
       "      <th>2</th>\n",
       "      <td>Avenue</td>\n",
       "      <td>0.91</td>\n",
       "      <td>Page isn’t blocked from indexing</td>\n",
       "      <td>Search engines are unable to include your page...</td>\n",
       "      <td>1</td>\n",
       "      <td>Document has a meta description</td>\n",
       "      <td>Meta descriptions may be included in search re...</td>\n",
       "      <td>1</td>\n",
       "      <td>Document has a valid `hreflang`</td>\n",
       "      <td>hreflang links tell search engines what versio...</td>\n",
       "      <td>1</td>\n",
       "      <td>Document has a valid `rel=canonical`</td>\n",
       "      <td>Canonical links suggest which URL to show in s...</td>\n",
       "      <td>1</td>\n",
       "      <td>Document has a `&lt;title&gt;` element</td>\n",
       "      <td>The title gives screen reader users an overvie...</td>\n",
       "      <td>1</td>\n",
       "      <td>Image elements have `[alt]` attributes</td>\n",
       "      <td>Informative elements should aim for short, des...</td>\n",
       "      <td>1</td>\n",
       "      <td>Structured data is valid</td>\n",
       "      <td>Run the [Structured Data Testing Tool](https:/...</td>\n",
       "      <td>None</td>\n",
       "      <td>Tap targets are not sized appropriately</td>\n",
       "      <td>Interactive elements like buttons and links sh...</td>\n",
       "      <td>0.84</td>\n",
       "    </tr>\n",
       "    <tr>\n",
       "      <th>3</th>\n",
       "      <td>Empire</td>\n",
       "      <td>0.89</td>\n",
       "      <td>Page isn’t blocked from indexing</td>\n",
       "      <td>Search engines are unable to include your page...</td>\n",
       "      <td>1</td>\n",
       "      <td>Document has a meta description</td>\n",
       "      <td>Meta descriptions may be included in search re...</td>\n",
       "      <td>1</td>\n",
       "      <td>Document has a valid `hreflang`</td>\n",
       "      <td>hreflang links tell search engines what versio...</td>\n",
       "      <td>1</td>\n",
       "      <td>Document has a valid `rel=canonical`</td>\n",
       "      <td>Canonical links suggest which URL to show in s...</td>\n",
       "      <td>1</td>\n",
       "      <td>Document has a `&lt;title&gt;` element</td>\n",
       "      <td>The title gives screen reader users an overvie...</td>\n",
       "      <td>1</td>\n",
       "      <td>Image elements have `[alt]` attributes</td>\n",
       "      <td>Informative elements should aim for short, des...</td>\n",
       "      <td>1</td>\n",
       "      <td>Structured data is valid</td>\n",
       "      <td>Run the [Structured Data Testing Tool](https:/...</td>\n",
       "      <td>None</td>\n",
       "      <td>Tap targets are not sized appropriately</td>\n",
       "      <td>Interactive elements like buttons and links sh...</td>\n",
       "      <td>0.61</td>\n",
       "    </tr>\n",
       "    <tr>\n",
       "      <th>4</th>\n",
       "      <td>Focal</td>\n",
       "      <td>0.81</td>\n",
       "      <td>Page isn’t blocked from indexing</td>\n",
       "      <td>Search engines are unable to include your page...</td>\n",
       "      <td>1</td>\n",
       "      <td>Document does not have a meta description</td>\n",
       "      <td>Meta descriptions may be included in search re...</td>\n",
       "      <td>0</td>\n",
       "      <td>Document has a valid `hreflang`</td>\n",
       "      <td>hreflang links tell search engines what versio...</td>\n",
       "      <td>1</td>\n",
       "      <td>Document has a valid `rel=canonical`</td>\n",
       "      <td>Canonical links suggest which URL to show in s...</td>\n",
       "      <td>1</td>\n",
       "      <td>Document has a `&lt;title&gt;` element</td>\n",
       "      <td>The title gives screen reader users an overvie...</td>\n",
       "      <td>1</td>\n",
       "      <td>Image elements have `[alt]` attributes</td>\n",
       "      <td>Informative elements should aim for short, des...</td>\n",
       "      <td>1</td>\n",
       "      <td>Structured data is valid</td>\n",
       "      <td>Run the [Structured Data Testing Tool](https:/...</td>\n",
       "      <td>None</td>\n",
       "      <td>Tap targets are not sized appropriately</td>\n",
       "      <td>Interactive elements like buttons and links sh...</td>\n",
       "      <td>0.50</td>\n",
       "    </tr>\n",
       "    <tr>\n",
       "      <th>...</th>\n",
       "      <td>...</td>\n",
       "      <td>...</td>\n",
       "      <td>...</td>\n",
       "      <td>...</td>\n",
       "      <td>...</td>\n",
       "      <td>...</td>\n",
       "      <td>...</td>\n",
       "      <td>...</td>\n",
       "      <td>...</td>\n",
       "      <td>...</td>\n",
       "      <td>...</td>\n",
       "      <td>...</td>\n",
       "      <td>...</td>\n",
       "      <td>...</td>\n",
       "      <td>...</td>\n",
       "      <td>...</td>\n",
       "      <td>...</td>\n",
       "      <td>...</td>\n",
       "      <td>...</td>\n",
       "      <td>...</td>\n",
       "      <td>...</td>\n",
       "      <td>...</td>\n",
       "      <td>...</td>\n",
       "      <td>...</td>\n",
       "      <td>...</td>\n",
       "      <td>...</td>\n",
       "    </tr>\n",
       "    <tr>\n",
       "      <th>68</th>\n",
       "      <td>Venue</td>\n",
       "      <td>0.82</td>\n",
       "      <td>Page isn’t blocked from indexing</td>\n",
       "      <td>Search engines are unable to include your page...</td>\n",
       "      <td>1</td>\n",
       "      <td>Document does not have a meta description</td>\n",
       "      <td>Meta descriptions may be included in search re...</td>\n",
       "      <td>0</td>\n",
       "      <td>Document has a valid `hreflang`</td>\n",
       "      <td>hreflang links tell search engines what versio...</td>\n",
       "      <td>1</td>\n",
       "      <td>Document has a valid `rel=canonical`</td>\n",
       "      <td>Canonical links suggest which URL to show in s...</td>\n",
       "      <td>1</td>\n",
       "      <td>Document has a `&lt;title&gt;` element</td>\n",
       "      <td>The title gives screen reader users an overvie...</td>\n",
       "      <td>1</td>\n",
       "      <td>Image elements have `[alt]` attributes</td>\n",
       "      <td>Informative elements should aim for short, des...</td>\n",
       "      <td>1</td>\n",
       "      <td>Structured data is valid</td>\n",
       "      <td>Run the [Structured Data Testing Tool](https:/...</td>\n",
       "      <td>None</td>\n",
       "      <td>Tap targets are not sized appropriately</td>\n",
       "      <td>Interactive elements like buttons and links sh...</td>\n",
       "      <td>0.70</td>\n",
       "    </tr>\n",
       "    <tr>\n",
       "      <th>69</th>\n",
       "      <td>Fashionopolism</td>\n",
       "      <td>0.98</td>\n",
       "      <td>Page isn’t blocked from indexing</td>\n",
       "      <td>Search engines are unable to include your page...</td>\n",
       "      <td>1</td>\n",
       "      <td>Document has a meta description</td>\n",
       "      <td>Meta descriptions may be included in search re...</td>\n",
       "      <td>1</td>\n",
       "      <td>Document has a valid `hreflang`</td>\n",
       "      <td>hreflang links tell search engines what versio...</td>\n",
       "      <td>1</td>\n",
       "      <td>Document has a valid `rel=canonical`</td>\n",
       "      <td>Canonical links suggest which URL to show in s...</td>\n",
       "      <td>1</td>\n",
       "      <td>Document has a `&lt;title&gt;` element</td>\n",
       "      <td>The title gives screen reader users an overvie...</td>\n",
       "      <td>1</td>\n",
       "      <td>Image elements have `[alt]` attributes</td>\n",
       "      <td>Informative elements should aim for short, des...</td>\n",
       "      <td>1</td>\n",
       "      <td>Structured data is valid</td>\n",
       "      <td>Run the [Structured Data Testing Tool](https:/...</td>\n",
       "      <td>None</td>\n",
       "      <td>Tap targets are not sized appropriately</td>\n",
       "      <td>Interactive elements like buttons and links sh...</td>\n",
       "      <td>0.78</td>\n",
       "    </tr>\n",
       "    <tr>\n",
       "      <th>70</th>\n",
       "      <td>Atlantic</td>\n",
       "      <td>0.90</td>\n",
       "      <td>Page isn’t blocked from indexing</td>\n",
       "      <td>Search engines are unable to include your page...</td>\n",
       "      <td>1</td>\n",
       "      <td>Document has a meta description</td>\n",
       "      <td>Meta descriptions may be included in search re...</td>\n",
       "      <td>1</td>\n",
       "      <td>Document has a valid `hreflang`</td>\n",
       "      <td>hreflang links tell search engines what versio...</td>\n",
       "      <td>1</td>\n",
       "      <td>Document has a valid `rel=canonical`</td>\n",
       "      <td>Canonical links suggest which URL to show in s...</td>\n",
       "      <td>1</td>\n",
       "      <td>Document has a `&lt;title&gt;` element</td>\n",
       "      <td>The title gives screen reader users an overvie...</td>\n",
       "      <td>1</td>\n",
       "      <td>Image elements have `[alt]` attributes</td>\n",
       "      <td>Informative elements should aim for short, des...</td>\n",
       "      <td>1</td>\n",
       "      <td>Structured data is valid</td>\n",
       "      <td>Run the [Structured Data Testing Tool](https:/...</td>\n",
       "      <td>None</td>\n",
       "      <td>Tap targets are not sized appropriately</td>\n",
       "      <td>Interactive elements like buttons and links sh...</td>\n",
       "      <td>0.71</td>\n",
       "    </tr>\n",
       "    <tr>\n",
       "      <th>71</th>\n",
       "      <td>Showcase</td>\n",
       "      <td>0.90</td>\n",
       "      <td>Page is blocked from indexing</td>\n",
       "      <td>Search engines are unable to include your page...</td>\n",
       "      <td>0</td>\n",
       "      <td>Document has a meta description</td>\n",
       "      <td>Meta descriptions may be included in search re...</td>\n",
       "      <td>1</td>\n",
       "      <td>Document has a valid `hreflang`</td>\n",
       "      <td>hreflang links tell search engines what versio...</td>\n",
       "      <td>1</td>\n",
       "      <td>Document has a valid `rel=canonical`</td>\n",
       "      <td>Canonical links suggest which URL to show in s...</td>\n",
       "      <td>1</td>\n",
       "      <td>Document has a `&lt;title&gt;` element</td>\n",
       "      <td>The title gives screen reader users an overvie...</td>\n",
       "      <td>1</td>\n",
       "      <td>Image elements have `[alt]` attributes</td>\n",
       "      <td>Informative elements should aim for short, des...</td>\n",
       "      <td>1</td>\n",
       "      <td>Structured data is valid</td>\n",
       "      <td>Run the [Structured Data Testing Tool](https:/...</td>\n",
       "      <td>None</td>\n",
       "      <td>Tap targets are not sized appropriately</td>\n",
       "      <td>Interactive elements like buttons and links sh...</td>\n",
       "      <td>0.69</td>\n",
       "    </tr>\n",
       "    <tr>\n",
       "      <th>72</th>\n",
       "      <td>Express</td>\n",
       "      <td>0.92</td>\n",
       "      <td>Page isn’t blocked from indexing</td>\n",
       "      <td>Search engines are unable to include your page...</td>\n",
       "      <td>1</td>\n",
       "      <td>Document does not have a meta description</td>\n",
       "      <td>Meta descriptions may be included in search re...</td>\n",
       "      <td>0</td>\n",
       "      <td>Document has a valid `hreflang`</td>\n",
       "      <td>hreflang links tell search engines what versio...</td>\n",
       "      <td>1</td>\n",
       "      <td>Document has a valid `rel=canonical`</td>\n",
       "      <td>Canonical links suggest which URL to show in s...</td>\n",
       "      <td>1</td>\n",
       "      <td>Document has a `&lt;title&gt;` element</td>\n",
       "      <td>The title gives screen reader users an overvie...</td>\n",
       "      <td>1</td>\n",
       "      <td>Image elements have `[alt]` attributes</td>\n",
       "      <td>Informative elements should aim for short, des...</td>\n",
       "      <td>1</td>\n",
       "      <td>Structured data is valid</td>\n",
       "      <td>Run the [Structured Data Testing Tool](https:/...</td>\n",
       "      <td>None</td>\n",
       "      <td>Tap targets are sized appropriately</td>\n",
       "      <td>Interactive elements like buttons and links sh...</td>\n",
       "      <td>1.00</td>\n",
       "    </tr>\n",
       "  </tbody>\n",
       "</table>\n",
       "<p>73 rows × 26 columns</p>\n",
       "</div>"
      ],
      "text/plain": [
       "              name  ...  tap-targets_score\n",
       "0         Prestige  ...               0.87\n",
       "1            Reach  ...               0.82\n",
       "2           Avenue  ...               0.84\n",
       "3           Empire  ...               0.61\n",
       "4            Focal  ...               0.50\n",
       "..             ...  ...                ...\n",
       "68           Venue  ...               0.70\n",
       "69  Fashionopolism  ...               0.78\n",
       "70        Atlantic  ...               0.71\n",
       "71        Showcase  ...               0.69\n",
       "72         Express  ...               1.00\n",
       "\n",
       "[73 rows x 26 columns]"
      ]
     },
     "execution_count": 32,
     "metadata": {
      "tags": []
     },
     "output_type": "execute_result"
    }
   ],
   "source": [
    "df"
   ]
  },
  {
   "cell_type": "code",
   "execution_count": null,
   "metadata": {
    "colab": {},
    "colab_type": "code",
    "id": "ac4HimjkCt9u"
   },
   "outputs": [],
   "source": [
    "spread = Spread(\"INBOUND2020\", creds=creds)\n"
   ]
  },
  {
   "cell_type": "code",
   "execution_count": null,
   "metadata": {
    "colab": {},
    "colab_type": "code",
    "id": "tbVaB1XCFFAb"
   },
   "outputs": [],
   "source": [
    "spread.df_to_sheet(df, index=False, sheet=\"Themes SEO audits\", start='A1', replace=True)\n"
   ]
  },
  {
   "cell_type": "code",
   "execution_count": null,
   "metadata": {
    "colab": {},
    "colab_type": "code",
    "id": "AUgD6mHYFTha"
   },
   "outputs": [],
   "source": []
  }
 ],
 "metadata": {
  "colab": {
   "authorship_tag": "ABX9TyMHcWYHIRSAMLVnMx4TOX4z",
   "include_colab_link": true,
   "name": "CheatSheet-Exporting-to-Sheets.ipynb",
   "provenance": []
  },
  "kernelspec": {
   "display_name": "Python 3 (ipykernel)",
   "language": "python",
   "name": "python3"
  },
  "language_info": {
   "codemirror_mode": {
    "name": "ipython",
    "version": 3
   },
   "file_extension": ".py",
   "mimetype": "text/x-python",
   "name": "python",
   "nbconvert_exporter": "python",
   "pygments_lexer": "ipython3",
   "version": "3.8.10"
  }
 },
 "nbformat": 4,
 "nbformat_minor": 1
}
