{
 "cells": [
  {
   "cell_type": "code",
   "execution_count": 5,
   "id": "644bb155",
   "metadata": {},
   "outputs": [],
   "source": [
    "from sqlalchemy import create_engine\n",
    "from sqlalchemy import text"
   ]
  },
  {
   "cell_type": "code",
   "execution_count": 2,
   "id": "4383b957",
   "metadata": {},
   "outputs": [],
   "source": [
    "engine = create_engine(\"sqlite+pysqlite:///:memory:\", echo=True, future=True)"
   ]
  },
  {
   "cell_type": "code",
   "execution_count": 6,
   "id": "f8c779b7",
   "metadata": {},
   "outputs": [
    {
     "name": "stdout",
     "output_type": "stream",
     "text": [
      "2021-04-14 07:45:13,407 INFO sqlalchemy.engine.Engine BEGIN (implicit)\n",
      "2021-04-14 07:45:13,408 INFO sqlalchemy.engine.Engine select 'hello world'\n",
      "2021-04-14 07:45:13,408 INFO sqlalchemy.engine.Engine [generated in 0.00153s] ()\n",
      "[('hello world',)]\n",
      "2021-04-14 07:45:13,410 INFO sqlalchemy.engine.Engine ROLLBACK\n"
     ]
    }
   ],
   "source": [
    "with engine.connect() as conn:\n",
    "    result = conn.execute(text(\"select 'hello world'\"))\n",
    "    print(result.all())"
   ]
  },
  {
   "cell_type": "code",
   "execution_count": 7,
   "id": "786938ea",
   "metadata": {},
   "outputs": [
    {
     "name": "stdout",
     "output_type": "stream",
     "text": [
      "2021-04-14 07:52:52,261 INFO sqlalchemy.engine.Engine BEGIN (implicit)\n",
      "2021-04-14 07:52:52,262 INFO sqlalchemy.engine.Engine CREATE TABLE some_table (x int, y int)\n",
      "2021-04-14 07:52:52,262 INFO sqlalchemy.engine.Engine [generated in 0.00137s] ()\n",
      "2021-04-14 07:52:52,264 INFO sqlalchemy.engine.Engine INSERT INTO some_table (x, y) VALUES (?, ?)\n",
      "2021-04-14 07:52:52,264 INFO sqlalchemy.engine.Engine [generated in 0.00066s] ((1, 1), (2, 4))\n",
      "2021-04-14 07:52:52,265 INFO sqlalchemy.engine.Engine COMMIT\n"
     ]
    }
   ],
   "source": [
    "with engine.connect() as conn:\n",
    "    conn.execute(text(\"CREATE TABLE some_table (x int, y int)\"))\n",
    "    conn.execute(\n",
    "        text(\"INSERT INTO some_table (x, y) VALUES (:x, :y)\"),\n",
    "        [{\"x\": 1, \"y\": 1}, {\"x\": 2, \"y\": 4}]\n",
    "    )\n",
    "    conn.commit()"
   ]
  },
  {
   "cell_type": "code",
   "execution_count": 14,
   "id": "720b627c",
   "metadata": {},
   "outputs": [
    {
     "name": "stdout",
     "output_type": "stream",
     "text": [
      "2021-04-14 08:17:00,131 INFO sqlalchemy.engine.Engine BEGIN (implicit)\n",
      "2021-04-14 08:17:00,132 INFO sqlalchemy.engine.Engine SELECT x, y FROM some_table\n",
      "2021-04-14 08:17:00,132 INFO sqlalchemy.engine.Engine [cached since 144.1s ago] ()\n",
      "x: 1  y: 1\n",
      "x: 2  y: 4\n",
      "Resultado []\n",
      "2021-04-14 08:17:00,134 INFO sqlalchemy.engine.Engine ROLLBACK\n"
     ]
    }
   ],
   "source": [
    "with engine.connect() as conn:\n",
    "    result = conn.execute(text(\"SELECT x, y FROM some_table\"))\n",
    "    for row in result:\n",
    "        print(f\"x: {row.x}  y: {row.y}\")\n",
    "    \n",
    "    print(\"Resultado\",result.all())"
   ]
  },
  {
   "cell_type": "code",
   "execution_count": null,
   "id": "81e54aeb",
   "metadata": {},
   "outputs": [],
   "source": []
  }
 ],
 "metadata": {
  "kernelspec": {
   "display_name": "Python 3",
   "language": "python",
   "name": "python3"
  },
  "language_info": {
   "codemirror_mode": {
    "name": "ipython",
    "version": 3
   },
   "file_extension": ".py",
   "mimetype": "text/x-python",
   "name": "python",
   "nbconvert_exporter": "python",
   "pygments_lexer": "ipython3",
   "version": "3.8.8"
  }
 },
 "nbformat": 4,
 "nbformat_minor": 5
}
