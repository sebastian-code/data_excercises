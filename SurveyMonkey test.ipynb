{
 "cells": [
  {
   "cell_type": "code",
   "execution_count": null,
   "id": "bf829d48",
   "metadata": {},
   "outputs": [],
   "source": [
    "import json\n",
    "\n",
    "import requests"
   ]
  },
  {
   "cell_type": "code",
   "execution_count": null,
   "id": "f77ef1fa",
   "metadata": {},
   "outputs": [],
   "source": [
    "qa_survey_collector= 412480093\n",
    "customer = \"El Emprese\"\n",
    "sent_to = \"otro@leempresecorreo.com\"\n",
    "with requests.Session() as client:\n",
    "    client.headers = {\n",
    "        \"Accept\": \"application/json\",\n",
    "        \"Authorization\": f\"Bearer {access_token}\",\n",
    "        \"Content-Type\": \"application/json\",\n",
    "    }\n",
    "    new_message_payload = json.dumps({\"type\": \"invite\"})\n",
    "    new_recipient_payload = json.dumps(\n",
    "        {\"email\": sent_to, \"first_name\": customer}\n",
    "    )\n",
    "    new_message = client.post(\n",
    "        f\"{api_endpoint}/collectors/{qa_survey_collector}/messages\",\n",
    "        data=new_message_payload,\n",
    "    )\n",
    "    print(\"ID del mensaje:\", new_message.json().get('id'))\n",
    "    new_recipient = client.post(\n",
    "        f\"{api_endpoint}/collectors/{qa_survey_collector}/messages/{new_message.json().get('id')}/recipients\",\n",
    "        data=new_recipient_payload,\n",
    "    )\n",
    "    print(new_recipient.json().get('id'))\n",
    "    sent_message = client.post(\n",
    "        f\"{api_endpoint}/collectors/{qa_survey_collector}/messages/{new_message.json().get('id')}/send\",\n",
    "        data=json.dumps({}),\n",
    "    )\n",
    "    print(sent_message.json())"
   ]
  },
  {
   "cell_type": "code",
   "execution_count": null,
   "id": "e0fa07d2",
   "metadata": {},
   "outputs": [],
   "source": [
    "new_message.json()"
   ]
  },
  {
   "cell_type": "code",
   "execution_count": null,
   "id": "6701410c",
   "metadata": {},
   "outputs": [],
   "source": [
    "client = requests.Session()\n",
    "client.headers = {\n",
    "    \"Accept\": \"application/json\",\n",
    "    \"Authorization\": f\"Bearer {TOKEN}\",\n",
    "    \"Content-Type\": \"application/json\"\n",
    "}\n",
    "\n",
    "err_res = {'status': 404, 'error': {'message': '404 Not Found'}, 'subdomain': 'api', 'request_id': '5e92c22c-9960-42cc-a73b-4afcbdebc9cf'}"
   ]
  },
  {
   "cell_type": "code",
   "execution_count": null,
   "id": "7dab2684",
   "metadata": {},
   "outputs": [],
   "source": [
    "surveys = client.get(f\"{API_URL}/surveys\")\n",
    "surveys.json()"
   ]
  },
  {
   "cell_type": "code",
   "execution_count": null,
   "id": "81df98bf",
   "metadata": {},
   "outputs": [],
   "source": [
    "collectors = client.get(f\"{API_URL}/surveys/314989183/collectors\")\n",
    "collectors.json()"
   ]
  },
  {
   "cell_type": "code",
   "execution_count": null,
   "id": "6d4ed5c4",
   "metadata": {},
   "outputs": [],
   "source": [
    "collector_detail = client.get(f\"{API_URL}/collectors/412455608\")\n",
    "collector_detail.json()"
   ]
  },
  {
   "cell_type": "code",
   "execution_count": null,
   "id": "1a75c4c9",
   "metadata": {},
   "outputs": [],
   "source": [
    "collector_recipients = client.get(f\"{API_URL}/collectors/412455608/recipients\")\n",
    "collector_recipients.json()"
   ]
  },
  {
   "cell_type": "code",
   "execution_count": null,
   "id": "5da6b1b6",
   "metadata": {},
   "outputs": [],
   "source": [
    "collector_messages = client.get(f\"{API_URL}/collectors/412480093/messages\")\n",
    "collector_messages.json()"
   ]
  },
  {
   "cell_type": "code",
   "execution_count": null,
   "id": "7548aa2e",
   "metadata": {},
   "outputs": [],
   "source": [
    "message_detail = client.get(f\"{API_URL}/collectors/412480093/messages/94324134\")\n",
    "message_detail.json()"
   ]
  },
  {
   "cell_type": "code",
   "execution_count": null,
   "id": "acbf083b",
   "metadata": {},
   "outputs": [],
   "source": [
    "new_message_payload = json.dumps(\n",
    "    {\n",
    "      \"type\": \"invite\"\n",
    "    }\n",
    ")\n",
    "new_message = client.post(f\"{API_URL}/collectors/412455608/messages\", data=new_message_payload)\n",
    "new_message.json()"
   ]
  },
  {
   "cell_type": "code",
   "execution_count": null,
   "id": "31fcd9b4",
   "metadata": {},
   "outputs": [],
   "source": [
    "new_message.json().get(\"id\")"
   ]
  },
  {
   "cell_type": "code",
   "execution_count": null,
   "id": "ad77c7ce",
   "metadata": {},
   "outputs": [],
   "source": [
    "payload = json.dumps(\n",
    "    {\n",
    "        \"email\": \"sebaslander@gmail.com\",\n",
    "        \"first_name\": \"Alejo\"\n",
    "    }\n",
    ")\n",
    "new_recipient = client.post(f\"{API_URL}/collectors/412455608/messages/{new_message.json().get('id')}/recipients\", data=payload)\n",
    "new_recipient.json()"
   ]
  },
  {
   "cell_type": "code",
   "execution_count": null,
   "id": "c9a1e2fb",
   "metadata": {},
   "outputs": [],
   "source": [
    "sent_message = client.post(f\"{API_URL}/collectors/412455608/messages/6781751759/send\", data=json.dumps({}))\n",
    "sent_message.json()"
   ]
  },
  {
   "cell_type": "code",
   "execution_count": null,
   "id": "429ff0a9",
   "metadata": {},
   "outputs": [],
   "source": [
    "# This one calls all the surveys\n",
    "def get_surveys():\n",
    "    return client.get(f\"{API_URL}/surveys\")\n",
    "\n",
    "# This one calls all the collectors of a given survey.\n",
    "def get_collectors(survey_id):\n",
    "    return client.get(f\"{API_URL}/surveys/{survey_id}/collectors\")\n",
    "\n",
    "# This one calls a collector detail.\n",
    "def get_collector(collector_id):\n",
    "    return client.get(f\"{API_URL}/collectors/{collector_id}\")\n",
    "\n",
    "# This one get all the recipients in a given collector\n",
    "def get_collector_recipients(collector_id):\n",
    "    return client.get(f\"{API_URL}/collectors/{collector_id}/recipients\")\n",
    "\n",
    "# This one gets all the messages of a given collector.\n",
    "def get_messages(collector_id):\n",
    "    return client.get(f\"{API_URL}/collectors/{collector_id}/messages\")\n",
    "\n",
    "# This one gets a message detail\n",
    "def get_message(collector_id, message_id):\n",
    "    return client.get(f\"{API_URL}/collectors/{collector_id}/messages/{message_id}\")\n",
    "\n",
    "# This one creates a new message using the defaults from SurveyMonkey;\n",
    "# it is needed to start the workflow to send a message to an individual recipient.\n",
    "def create_new_message(collector_id):\n",
    "    payload = json.dumps(\n",
    "        {\n",
    "            \"type\": \"invite\",\n",
    "            # \"recipient_status\": \"\",\n",
    "            # \"subject\": \"\",\n",
    "            # \"body_text (for email invitations)\": \"\",\n",
    "            # \"body_text (for sms messages)\": \"\",\n",
    "            # \"body_html\": \"\",\n",
    "            # \"embed_first_question\": \"\",\n",
    "            # \"is_branding_enabled\": \"\",\n",
    "            # \"from_collector_id\": \"\",\n",
    "            # \"from_message_id\": \"\",\n",
    "            # \"include_recipients\": \"\"\n",
    "        }\n",
    "    )\n",
    "    return client.post(f\"{API_URL}/collectors/{collector_id}/messages\", data=payload)\n",
    "\n",
    "def add_recipient_to_message(collector_id, message_id, email, first_name, last_name):\n",
    "    payload = json.dumps(\n",
    "        {\n",
    "            \"email\": email,\n",
    "            \"first_name\": first_name,\n",
    "            \"last_name\": last_name,\n",
    "            # \"phone_number\": None,\n",
    "            # \"custom_fields\": None,\n",
    "            # \"extra_fields\": [\"Up to six\",],\n",
    "            # \"duplicates\": None,\n",
    "            # \"contact_id\": None,\n",
    "        }\n",
    "    )\n",
    "    return client.post(f\"{API_URL}/collectors/{collector_id}/messages/{message_id}/recipients\", data=payload)\n",
    "\n",
    "def send_survey(collector_id, recipient_id):\n",
    "    return client.post(\n",
    "        f\"{API_URL}/collectors/{collector_id}/messages/{recipient_id}/send\", data=json.dumps({})\n",
    "    )"
   ]
  },
  {
   "cell_type": "code",
   "execution_count": null,
   "id": "b9514dae",
   "metadata": {},
   "outputs": [],
   "source": [
    "survey_id = 314978582\n",
    "collector_id = 412480093\n",
    "\n",
    "next_message = create_new_message(collector_id)\n",
    "next_message.json()"
   ]
  },
  {
   "cell_type": "code",
   "execution_count": null,
   "id": "eaa8efa8",
   "metadata": {},
   "outputs": [],
   "source": [
    "#new_message = client.post(f\"{API_URL}/collectors/412480093/messages\", data=new_message_payload)\n",
    "#new_recipient = client.post(f\"{API_URL}/collectors/412480093/messages/{new_message.json().get('id')}/recipients\", data=payload)\n",
    "#sent_message = client.post(f\"{API_URL}/collectors/412480093/messages/{new_message.json().get('id')}/send\", data=json.dumps({}))\n",
    "\n",
    "recipient = add_recipient_to_message(collector_id, next_message.json().get('id'), \"sebaslander@gmail.com\", \"Nombre\", \"Apellidos\")\n",
    "recipient.json()"
   ]
  },
  {
   "cell_type": "code",
   "execution_count": null,
   "id": "98b88596",
   "metadata": {},
   "outputs": [],
   "source": [
    "sended = send_survey(collector_id, next_message.json().get('id'))\n",
    "sended.json()"
   ]
  },
  {
   "cell_type": "code",
   "execution_count": null,
   "id": "f9201380",
   "metadata": {},
   "outputs": [],
   "source": [
    "print(\n",
    "    f\"Una linea\\n\"\n",
    "    f\"dos linea\\n\"\n",
    "    f\"tres linea\"\n",
    ")"
   ]
  },
  {
   "cell_type": "code",
   "execution_count": null,
   "id": "bc09f136",
   "metadata": {},
   "outputs": [],
   "source": []
  }
 ],
 "metadata": {
  "kernelspec": {
   "display_name": "Python 3 (ipykernel)",
   "language": "python",
   "name": "python3"
  },
  "language_info": {
   "codemirror_mode": {
    "name": "ipython",
    "version": 3
   },
   "file_extension": ".py",
   "mimetype": "text/x-python",
   "name": "python",
   "nbconvert_exporter": "python",
   "pygments_lexer": "ipython3",
   "version": "3.9.11"
  }
 },
 "nbformat": 4,
 "nbformat_minor": 5
}
