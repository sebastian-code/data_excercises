{
 "cells": [
  {
   "cell_type": "code",
   "execution_count": 67,
   "id": "802cf3aa",
   "metadata": {},
   "outputs": [],
   "source": [
    "import base64\n",
    "import json\n",
    "import logging\n",
    "import requests\n",
    "from suds.client import Client\n",
    "from suds.sudsobject import asdict"
   ]
  },
  {
   "cell_type": "code",
   "execution_count": 68,
   "id": "e8cefc08",
   "metadata": {},
   "outputs": [],
   "source": [
    "url_income_estimator = \"https://miportafoliouat.transunion.co/ProspectaPlusWebService/services/ProspectaPlus?wsdl\"\n",
    "usuario = \"usuario\"\n",
    "password = \"clave\"\n",
    "logging.basicConfig(level=logging.INFO)\n",
    "logging.getLogger('suds.client').setLevel(logging.DEBUG)\n",
    "logging.getLogger('suds.transport').setLevel(logging.DEBUG)\n",
    "logging.getLogger('suds.xsd.schema').setLevel(logging.DEBUG)\n",
    "logging.getLogger('suds.wsdl').setLevel(logging.DEBUG)\n",
    "base64string = base64.b64encode(f\"{usuario}:{password}\".encode('utf-8'))\n",
    "headers = {\n",
    "    \"Content-Type\": \"text/xml; charset=utf-8\",\n",
    "    \"Authorization\": f\"Basic {base64string.decode()}\"\n",
    "}\n",
    "# https://stackoverflow.com/questions/40348040/how-to-sign-xml-with-python-suds\n"
   ]
  },
  {
   "cell_type": "code",
   "execution_count": 64,
   "id": "bf171a65",
   "metadata": {},
   "outputs": [
    {
     "name": "stdout",
     "output_type": "stream",
     "text": [
      "\n",
      "Suds ( https://fedorahosted.org/suds/ )  version: 1.1.2\n",
      "\n",
      "Service ( ProspectaPlusWSService ) tns=\"http://prospectaplusws.transunion.com\"\n",
      "   Prefixes (3)\n",
      "      ns0 = \"http://dto.prospectaplusws.transunion.com\"\n",
      "      ns1 = \"http://prospectaplusws.transunion.com\"\n",
      "      ns2 = \"http://schemas.xmlsoap.org/soap/encoding/\"\n",
      "   Ports (1):\n",
      "      (ProspectaPlus)\n",
      "         Methods (1):\n",
      "            consultaProspecta(ns2:string codigoInformacion, ns2:string numeroIdentificacion, ns2:string tipoIdentificacion)\n",
      "         Types (51):\n",
      "            ns2:Array\n",
      "            ArrayOf_tns1_InconsistenciasDTO\n",
      "            ns2:ENTITIES\n",
      "            ns2:ENTITY\n",
      "            ns2:ID\n",
      "            ns2:IDREF\n",
      "            ns2:IDREFS\n",
      "            ns0:InconsistenciasDTO\n",
      "            ns2:NCName\n",
      "            ns2:NMTOKEN\n",
      "            ns2:NMTOKENS\n",
      "            ns2:NOTATION\n",
      "            ns2:Name\n",
      "            ns2:QName\n",
      "            ns0:RespuestaProspectaDTO\n",
      "            ns2:Struct\n",
      "            ns2:anyURI\n",
      "            ns2:arrayCoordinate\n",
      "            ns2:base64\n",
      "            ns2:base64Binary\n",
      "            ns2:boolean\n",
      "            ns2:byte\n",
      "            ns2:date\n",
      "            ns2:dateTime\n",
      "            ns2:decimal\n",
      "            ns2:double\n",
      "            ns2:duration\n",
      "            ns2:float\n",
      "            ns2:gDay\n",
      "            ns2:gMonth\n",
      "            ns2:gMonthDay\n",
      "            ns2:gYear\n",
      "            ns2:gYearMonth\n",
      "            ns2:hexBinary\n",
      "            ns2:int\n",
      "            ns2:integer\n",
      "            ns2:language\n",
      "            ns2:long\n",
      "            ns2:negativeInteger\n",
      "            ns2:nonNegativeInteger\n",
      "            ns2:nonPositiveInteger\n",
      "            ns2:normalizedString\n",
      "            ns2:positiveInteger\n",
      "            ns2:short\n",
      "            ns2:string\n",
      "            ns2:time\n",
      "            ns2:token\n",
      "            ns2:unsignedByte\n",
      "            ns2:unsignedInt\n",
      "            ns2:unsignedLong\n",
      "            ns2:unsignedShort\n",
      "\n",
      "\n"
     ]
    }
   ],
   "source": [
    "client = Client(url_income_estimator, password=password, username=usuario)\n",
    "print(client)\n",
    "# Llamada al servicio\n",
    "# client.service.consultaProspecta()"
   ]
  },
  {
   "cell_type": "code",
   "execution_count": 61,
   "id": "40bbe709",
   "metadata": {},
   "outputs": [
    {
     "name": "stderr",
     "output_type": "stream",
     "text": [
      "(AuthToken) not-found\n",
      "path: \"AuthToken\", not-found\n"
     ]
    },
    {
     "ename": "TypeNotFound",
     "evalue": "Type not found: 'AuthToken'",
     "output_type": "error",
     "traceback": [
      "\u001b[0;31m---------------------------------------------------------------------------\u001b[0m",
      "\u001b[0;31mTypeNotFound\u001b[0m                              Traceback (most recent call last)",
      "Input \u001b[0;32mIn [61]\u001b[0m, in \u001b[0;36m<cell line: 1>\u001b[0;34m()\u001b[0m\n\u001b[0;32m----> 1\u001b[0m token \u001b[38;5;241m=\u001b[39m \u001b[43mclient\u001b[49m\u001b[38;5;241;43m.\u001b[39;49m\u001b[43mfactory\u001b[49m\u001b[38;5;241;43m.\u001b[39;49m\u001b[43mcreate\u001b[49m\u001b[43m(\u001b[49m\u001b[38;5;124;43m'\u001b[39;49m\u001b[38;5;124;43mAuthToken\u001b[39;49m\u001b[38;5;124;43m'\u001b[39;49m\u001b[43m)\u001b[49m\n\u001b[1;32m      2\u001b[0m token\u001b[38;5;241m.\u001b[39musername \u001b[38;5;241m=\u001b[39m usuario\n\u001b[1;32m      3\u001b[0m token\u001b[38;5;241m.\u001b[39mpassword \u001b[38;5;241m=\u001b[39m password\n",
      "File \u001b[0;32m~/.pyenv/versions/3.9.11/envs/data/lib/python3.9/site-packages/suds/client.py:254\u001b[0m, in \u001b[0;36mFactory.create\u001b[0;34m(self, name)\u001b[0m\n\u001b[1;32m    252\u001b[0m \u001b[38;5;28mtype\u001b[39m \u001b[38;5;241m=\u001b[39m \u001b[38;5;28mself\u001b[39m\u001b[38;5;241m.\u001b[39mresolver\u001b[38;5;241m.\u001b[39mfind(name)\n\u001b[1;32m    253\u001b[0m \u001b[38;5;28;01mif\u001b[39;00m \u001b[38;5;28mtype\u001b[39m \u001b[38;5;129;01mis\u001b[39;00m \u001b[38;5;28;01mNone\u001b[39;00m:\n\u001b[0;32m--> 254\u001b[0m     \u001b[38;5;28;01mraise\u001b[39;00m TypeNotFound(name)\n\u001b[1;32m    255\u001b[0m \u001b[38;5;28;01mif\u001b[39;00m \u001b[38;5;28mtype\u001b[39m\u001b[38;5;241m.\u001b[39menum():\n\u001b[1;32m    256\u001b[0m     result \u001b[38;5;241m=\u001b[39m sudsobject\u001b[38;5;241m.\u001b[39mFactory\u001b[38;5;241m.\u001b[39mobject(name)\n",
      "\u001b[0;31mTypeNotFound\u001b[0m: Type not found: 'AuthToken'"
     ]
    }
   ],
   "source": [
    "token = client.factory.create('AuthToken')\n",
    "token.username = usuario\n",
    "token.password = password\n",
    "client.set_options(soapheaders=token)"
   ]
  },
  {
   "cell_type": "code",
   "execution_count": 65,
   "id": "30f7959b",
   "metadata": {},
   "outputs": [
    {
     "ename": "WebFault",
     "evalue": "Server raised fault: 'WSDoAllReceiver: Request does not contain required Security header'",
     "output_type": "error",
     "traceback": [
      "\u001b[0;31m---------------------------------------------------------------------------\u001b[0m",
      "\u001b[0;31mHTTPError\u001b[0m                                 Traceback (most recent call last)",
      "File \u001b[0;32m~/.pyenv/versions/3.9.11/envs/data/lib/python3.9/site-packages/suds/transport/http.py:89\u001b[0m, in \u001b[0;36mHttpTransport.send\u001b[0;34m(self, request)\u001b[0m\n\u001b[1;32m     88\u001b[0m log\u001b[38;5;241m.\u001b[39mdebug(\u001b[38;5;124m'\u001b[39m\u001b[38;5;124msending:\u001b[39m\u001b[38;5;130;01m\\n\u001b[39;00m\u001b[38;5;132;01m%s\u001b[39;00m\u001b[38;5;124m'\u001b[39m, request)\n\u001b[0;32m---> 89\u001b[0m fp \u001b[38;5;241m=\u001b[39m \u001b[38;5;28;43mself\u001b[39;49m\u001b[38;5;241;43m.\u001b[39;49m\u001b[43mu2open\u001b[49m\u001b[43m(\u001b[49m\u001b[43mu2request\u001b[49m\u001b[43m,\u001b[49m\u001b[43m \u001b[49m\u001b[43mtimeout\u001b[49m\u001b[38;5;241;43m=\u001b[39;49m\u001b[43mrequest\u001b[49m\u001b[38;5;241;43m.\u001b[39;49m\u001b[43mtimeout\u001b[49m\u001b[43m)\u001b[49m\n\u001b[1;32m     90\u001b[0m \u001b[38;5;28mself\u001b[39m\u001b[38;5;241m.\u001b[39mgetcookies(fp, u2request)\n",
      "File \u001b[0;32m~/.pyenv/versions/3.9.11/envs/data/lib/python3.9/site-packages/suds/transport/http.py:140\u001b[0m, in \u001b[0;36mHttpTransport.u2open\u001b[0;34m(self, u2request, timeout)\u001b[0m\n\u001b[1;32m    139\u001b[0m url \u001b[38;5;241m=\u001b[39m \u001b[38;5;28mself\u001b[39m\u001b[38;5;241m.\u001b[39mu2opener()\n\u001b[0;32m--> 140\u001b[0m \u001b[38;5;28;01mreturn\u001b[39;00m \u001b[43murl\u001b[49m\u001b[38;5;241;43m.\u001b[39;49m\u001b[43mopen\u001b[49m\u001b[43m(\u001b[49m\u001b[43mu2request\u001b[49m\u001b[43m,\u001b[49m\u001b[43m \u001b[49m\u001b[43mtimeout\u001b[49m\u001b[38;5;241;43m=\u001b[39;49m\u001b[43mtm\u001b[49m\u001b[43m)\u001b[49m\n",
      "File \u001b[0;32m~/.pyenv/versions/3.9.11/lib/python3.9/urllib/request.py:523\u001b[0m, in \u001b[0;36mOpenerDirector.open\u001b[0;34m(self, fullurl, data, timeout)\u001b[0m\n\u001b[1;32m    522\u001b[0m     meth \u001b[38;5;241m=\u001b[39m \u001b[38;5;28mgetattr\u001b[39m(processor, meth_name)\n\u001b[0;32m--> 523\u001b[0m     response \u001b[38;5;241m=\u001b[39m \u001b[43mmeth\u001b[49m\u001b[43m(\u001b[49m\u001b[43mreq\u001b[49m\u001b[43m,\u001b[49m\u001b[43m \u001b[49m\u001b[43mresponse\u001b[49m\u001b[43m)\u001b[49m\n\u001b[1;32m    525\u001b[0m \u001b[38;5;28;01mreturn\u001b[39;00m response\n",
      "File \u001b[0;32m~/.pyenv/versions/3.9.11/lib/python3.9/urllib/request.py:632\u001b[0m, in \u001b[0;36mHTTPErrorProcessor.http_response\u001b[0;34m(self, request, response)\u001b[0m\n\u001b[1;32m    631\u001b[0m \u001b[38;5;28;01mif\u001b[39;00m \u001b[38;5;129;01mnot\u001b[39;00m (\u001b[38;5;241m200\u001b[39m \u001b[38;5;241m<\u001b[39m\u001b[38;5;241m=\u001b[39m code \u001b[38;5;241m<\u001b[39m \u001b[38;5;241m300\u001b[39m):\n\u001b[0;32m--> 632\u001b[0m     response \u001b[38;5;241m=\u001b[39m \u001b[38;5;28;43mself\u001b[39;49m\u001b[38;5;241;43m.\u001b[39;49m\u001b[43mparent\u001b[49m\u001b[38;5;241;43m.\u001b[39;49m\u001b[43merror\u001b[49m\u001b[43m(\u001b[49m\n\u001b[1;32m    633\u001b[0m \u001b[43m        \u001b[49m\u001b[38;5;124;43m'\u001b[39;49m\u001b[38;5;124;43mhttp\u001b[39;49m\u001b[38;5;124;43m'\u001b[39;49m\u001b[43m,\u001b[49m\u001b[43m \u001b[49m\u001b[43mrequest\u001b[49m\u001b[43m,\u001b[49m\u001b[43m \u001b[49m\u001b[43mresponse\u001b[49m\u001b[43m,\u001b[49m\u001b[43m \u001b[49m\u001b[43mcode\u001b[49m\u001b[43m,\u001b[49m\u001b[43m \u001b[49m\u001b[43mmsg\u001b[49m\u001b[43m,\u001b[49m\u001b[43m \u001b[49m\u001b[43mhdrs\u001b[49m\u001b[43m)\u001b[49m\n\u001b[1;32m    635\u001b[0m \u001b[38;5;28;01mreturn\u001b[39;00m response\n",
      "File \u001b[0;32m~/.pyenv/versions/3.9.11/lib/python3.9/urllib/request.py:555\u001b[0m, in \u001b[0;36mOpenerDirector.error\u001b[0;34m(self, proto, *args)\u001b[0m\n\u001b[1;32m    554\u001b[0m args \u001b[38;5;241m=\u001b[39m (\u001b[38;5;28mdict\u001b[39m, proto, meth_name) \u001b[38;5;241m+\u001b[39m args\n\u001b[0;32m--> 555\u001b[0m result \u001b[38;5;241m=\u001b[39m \u001b[38;5;28;43mself\u001b[39;49m\u001b[38;5;241;43m.\u001b[39;49m\u001b[43m_call_chain\u001b[49m\u001b[43m(\u001b[49m\u001b[38;5;241;43m*\u001b[39;49m\u001b[43margs\u001b[49m\u001b[43m)\u001b[49m\n\u001b[1;32m    556\u001b[0m \u001b[38;5;28;01mif\u001b[39;00m result:\n",
      "File \u001b[0;32m~/.pyenv/versions/3.9.11/lib/python3.9/urllib/request.py:494\u001b[0m, in \u001b[0;36mOpenerDirector._call_chain\u001b[0;34m(self, chain, kind, meth_name, *args)\u001b[0m\n\u001b[1;32m    493\u001b[0m func \u001b[38;5;241m=\u001b[39m \u001b[38;5;28mgetattr\u001b[39m(handler, meth_name)\n\u001b[0;32m--> 494\u001b[0m result \u001b[38;5;241m=\u001b[39m \u001b[43mfunc\u001b[49m\u001b[43m(\u001b[49m\u001b[38;5;241;43m*\u001b[39;49m\u001b[43margs\u001b[49m\u001b[43m)\u001b[49m\n\u001b[1;32m    495\u001b[0m \u001b[38;5;28;01mif\u001b[39;00m result \u001b[38;5;129;01mis\u001b[39;00m \u001b[38;5;129;01mnot\u001b[39;00m \u001b[38;5;28;01mNone\u001b[39;00m:\n",
      "File \u001b[0;32m~/.pyenv/versions/3.9.11/lib/python3.9/urllib/request.py:1054\u001b[0m, in \u001b[0;36mHTTPBasicAuthHandler.http_error_401\u001b[0;34m(self, req, fp, code, msg, headers)\u001b[0m\n\u001b[1;32m   1053\u001b[0m url \u001b[38;5;241m=\u001b[39m req\u001b[38;5;241m.\u001b[39mfull_url\n\u001b[0;32m-> 1054\u001b[0m response \u001b[38;5;241m=\u001b[39m \u001b[38;5;28;43mself\u001b[39;49m\u001b[38;5;241;43m.\u001b[39;49m\u001b[43mhttp_error_auth_reqed\u001b[49m\u001b[43m(\u001b[49m\u001b[38;5;124;43m'\u001b[39;49m\u001b[38;5;124;43mwww-authenticate\u001b[39;49m\u001b[38;5;124;43m'\u001b[39;49m\u001b[43m,\u001b[49m\n\u001b[1;32m   1055\u001b[0m \u001b[43m                                  \u001b[49m\u001b[43murl\u001b[49m\u001b[43m,\u001b[49m\u001b[43m \u001b[49m\u001b[43mreq\u001b[49m\u001b[43m,\u001b[49m\u001b[43m \u001b[49m\u001b[43mheaders\u001b[49m\u001b[43m)\u001b[49m\n\u001b[1;32m   1056\u001b[0m \u001b[38;5;28;01mreturn\u001b[39;00m response\n",
      "File \u001b[0;32m~/.pyenv/versions/3.9.11/lib/python3.9/urllib/request.py:1003\u001b[0m, in \u001b[0;36mAbstractBasicAuthHandler.http_error_auth_reqed\u001b[0;34m(self, authreq, host, req, headers)\u001b[0m\n\u001b[1;32m    999\u001b[0m         \u001b[38;5;28;01mif\u001b[39;00m realm \u001b[38;5;129;01mis\u001b[39;00m \u001b[38;5;129;01mnot\u001b[39;00m \u001b[38;5;28;01mNone\u001b[39;00m:\n\u001b[1;32m   1000\u001b[0m             \u001b[38;5;66;03m# Use the first matching Basic challenge.\u001b[39;00m\n\u001b[1;32m   1001\u001b[0m             \u001b[38;5;66;03m# Ignore following challenges even if they use the Basic\u001b[39;00m\n\u001b[1;32m   1002\u001b[0m             \u001b[38;5;66;03m# scheme.\u001b[39;00m\n\u001b[0;32m-> 1003\u001b[0m             \u001b[38;5;28;01mreturn\u001b[39;00m \u001b[38;5;28;43mself\u001b[39;49m\u001b[38;5;241;43m.\u001b[39;49m\u001b[43mretry_http_basic_auth\u001b[49m\u001b[43m(\u001b[49m\u001b[43mhost\u001b[49m\u001b[43m,\u001b[49m\u001b[43m \u001b[49m\u001b[43mreq\u001b[49m\u001b[43m,\u001b[49m\u001b[43m \u001b[49m\u001b[43mrealm\u001b[49m\u001b[43m)\u001b[49m\n\u001b[1;32m   1005\u001b[0m \u001b[38;5;28;01mif\u001b[39;00m unsupported \u001b[38;5;129;01mis\u001b[39;00m \u001b[38;5;129;01mnot\u001b[39;00m \u001b[38;5;28;01mNone\u001b[39;00m:\n",
      "File \u001b[0;32m~/.pyenv/versions/3.9.11/lib/python3.9/urllib/request.py:1018\u001b[0m, in \u001b[0;36mAbstractBasicAuthHandler.retry_http_basic_auth\u001b[0;34m(self, host, req, realm)\u001b[0m\n\u001b[1;32m   1017\u001b[0m     req\u001b[38;5;241m.\u001b[39madd_unredirected_header(\u001b[38;5;28mself\u001b[39m\u001b[38;5;241m.\u001b[39mauth_header, auth)\n\u001b[0;32m-> 1018\u001b[0m     \u001b[38;5;28;01mreturn\u001b[39;00m \u001b[38;5;28;43mself\u001b[39;49m\u001b[38;5;241;43m.\u001b[39;49m\u001b[43mparent\u001b[49m\u001b[38;5;241;43m.\u001b[39;49m\u001b[43mopen\u001b[49m\u001b[43m(\u001b[49m\u001b[43mreq\u001b[49m\u001b[43m,\u001b[49m\u001b[43m \u001b[49m\u001b[43mtimeout\u001b[49m\u001b[38;5;241;43m=\u001b[39;49m\u001b[43mreq\u001b[49m\u001b[38;5;241;43m.\u001b[39;49m\u001b[43mtimeout\u001b[49m\u001b[43m)\u001b[49m\n\u001b[1;32m   1019\u001b[0m \u001b[38;5;28;01melse\u001b[39;00m:\n",
      "File \u001b[0;32m~/.pyenv/versions/3.9.11/lib/python3.9/urllib/request.py:523\u001b[0m, in \u001b[0;36mOpenerDirector.open\u001b[0;34m(self, fullurl, data, timeout)\u001b[0m\n\u001b[1;32m    522\u001b[0m     meth \u001b[38;5;241m=\u001b[39m \u001b[38;5;28mgetattr\u001b[39m(processor, meth_name)\n\u001b[0;32m--> 523\u001b[0m     response \u001b[38;5;241m=\u001b[39m \u001b[43mmeth\u001b[49m\u001b[43m(\u001b[49m\u001b[43mreq\u001b[49m\u001b[43m,\u001b[49m\u001b[43m \u001b[49m\u001b[43mresponse\u001b[49m\u001b[43m)\u001b[49m\n\u001b[1;32m    525\u001b[0m \u001b[38;5;28;01mreturn\u001b[39;00m response\n",
      "File \u001b[0;32m~/.pyenv/versions/3.9.11/lib/python3.9/urllib/request.py:632\u001b[0m, in \u001b[0;36mHTTPErrorProcessor.http_response\u001b[0;34m(self, request, response)\u001b[0m\n\u001b[1;32m    631\u001b[0m \u001b[38;5;28;01mif\u001b[39;00m \u001b[38;5;129;01mnot\u001b[39;00m (\u001b[38;5;241m200\u001b[39m \u001b[38;5;241m<\u001b[39m\u001b[38;5;241m=\u001b[39m code \u001b[38;5;241m<\u001b[39m \u001b[38;5;241m300\u001b[39m):\n\u001b[0;32m--> 632\u001b[0m     response \u001b[38;5;241m=\u001b[39m \u001b[38;5;28;43mself\u001b[39;49m\u001b[38;5;241;43m.\u001b[39;49m\u001b[43mparent\u001b[49m\u001b[38;5;241;43m.\u001b[39;49m\u001b[43merror\u001b[49m\u001b[43m(\u001b[49m\n\u001b[1;32m    633\u001b[0m \u001b[43m        \u001b[49m\u001b[38;5;124;43m'\u001b[39;49m\u001b[38;5;124;43mhttp\u001b[39;49m\u001b[38;5;124;43m'\u001b[39;49m\u001b[43m,\u001b[49m\u001b[43m \u001b[49m\u001b[43mrequest\u001b[49m\u001b[43m,\u001b[49m\u001b[43m \u001b[49m\u001b[43mresponse\u001b[49m\u001b[43m,\u001b[49m\u001b[43m \u001b[49m\u001b[43mcode\u001b[49m\u001b[43m,\u001b[49m\u001b[43m \u001b[49m\u001b[43mmsg\u001b[49m\u001b[43m,\u001b[49m\u001b[43m \u001b[49m\u001b[43mhdrs\u001b[49m\u001b[43m)\u001b[49m\n\u001b[1;32m    635\u001b[0m \u001b[38;5;28;01mreturn\u001b[39;00m response\n",
      "File \u001b[0;32m~/.pyenv/versions/3.9.11/lib/python3.9/urllib/request.py:561\u001b[0m, in \u001b[0;36mOpenerDirector.error\u001b[0;34m(self, proto, *args)\u001b[0m\n\u001b[1;32m    560\u001b[0m args \u001b[38;5;241m=\u001b[39m (\u001b[38;5;28mdict\u001b[39m, \u001b[38;5;124m'\u001b[39m\u001b[38;5;124mdefault\u001b[39m\u001b[38;5;124m'\u001b[39m, \u001b[38;5;124m'\u001b[39m\u001b[38;5;124mhttp_error_default\u001b[39m\u001b[38;5;124m'\u001b[39m) \u001b[38;5;241m+\u001b[39m orig_args\n\u001b[0;32m--> 561\u001b[0m \u001b[38;5;28;01mreturn\u001b[39;00m \u001b[38;5;28;43mself\u001b[39;49m\u001b[38;5;241;43m.\u001b[39;49m\u001b[43m_call_chain\u001b[49m\u001b[43m(\u001b[49m\u001b[38;5;241;43m*\u001b[39;49m\u001b[43margs\u001b[49m\u001b[43m)\u001b[49m\n",
      "File \u001b[0;32m~/.pyenv/versions/3.9.11/lib/python3.9/urllib/request.py:494\u001b[0m, in \u001b[0;36mOpenerDirector._call_chain\u001b[0;34m(self, chain, kind, meth_name, *args)\u001b[0m\n\u001b[1;32m    493\u001b[0m func \u001b[38;5;241m=\u001b[39m \u001b[38;5;28mgetattr\u001b[39m(handler, meth_name)\n\u001b[0;32m--> 494\u001b[0m result \u001b[38;5;241m=\u001b[39m \u001b[43mfunc\u001b[49m\u001b[43m(\u001b[49m\u001b[38;5;241;43m*\u001b[39;49m\u001b[43margs\u001b[49m\u001b[43m)\u001b[49m\n\u001b[1;32m    495\u001b[0m \u001b[38;5;28;01mif\u001b[39;00m result \u001b[38;5;129;01mis\u001b[39;00m \u001b[38;5;129;01mnot\u001b[39;00m \u001b[38;5;28;01mNone\u001b[39;00m:\n",
      "File \u001b[0;32m~/.pyenv/versions/3.9.11/lib/python3.9/urllib/request.py:641\u001b[0m, in \u001b[0;36mHTTPDefaultErrorHandler.http_error_default\u001b[0;34m(self, req, fp, code, msg, hdrs)\u001b[0m\n\u001b[1;32m    640\u001b[0m \u001b[38;5;28;01mdef\u001b[39;00m \u001b[38;5;21mhttp_error_default\u001b[39m(\u001b[38;5;28mself\u001b[39m, req, fp, code, msg, hdrs):\n\u001b[0;32m--> 641\u001b[0m     \u001b[38;5;28;01mraise\u001b[39;00m HTTPError(req\u001b[38;5;241m.\u001b[39mfull_url, code, msg, hdrs, fp)\n",
      "\u001b[0;31mHTTPError\u001b[0m: HTTP Error 500: Internal Server Error",
      "\nDuring handling of the above exception, another exception occurred:\n",
      "\u001b[0;31mTransportError\u001b[0m                            Traceback (most recent call last)",
      "File \u001b[0;32m~/.pyenv/versions/3.9.11/envs/data/lib/python3.9/site-packages/suds/client.py:771\u001b[0m, in \u001b[0;36m_SoapClient.send\u001b[0;34m(self, soapenv, timeout)\u001b[0m\n\u001b[1;32m    770\u001b[0m timer\u001b[38;5;241m.\u001b[39mstart()\n\u001b[0;32m--> 771\u001b[0m reply \u001b[38;5;241m=\u001b[39m \u001b[38;5;28;43mself\u001b[39;49m\u001b[38;5;241;43m.\u001b[39;49m\u001b[43moptions\u001b[49m\u001b[38;5;241;43m.\u001b[39;49m\u001b[43mtransport\u001b[49m\u001b[38;5;241;43m.\u001b[39;49m\u001b[43msend\u001b[49m\u001b[43m(\u001b[49m\u001b[43mrequest\u001b[49m\u001b[43m)\u001b[49m\n\u001b[1;32m    772\u001b[0m timer\u001b[38;5;241m.\u001b[39mstop()\n",
      "File \u001b[0;32m~/.pyenv/versions/3.9.11/envs/data/lib/python3.9/site-packages/suds/transport/https.py:66\u001b[0m, in \u001b[0;36mHttpAuthenticated.send\u001b[0;34m(self, request)\u001b[0m\n\u001b[1;32m     65\u001b[0m \u001b[38;5;28mself\u001b[39m\u001b[38;5;241m.\u001b[39maddcredentials(request)\n\u001b[0;32m---> 66\u001b[0m \u001b[38;5;28;01mreturn\u001b[39;00m \u001b[43mHttpTransport\u001b[49m\u001b[38;5;241;43m.\u001b[39;49m\u001b[43msend\u001b[49m\u001b[43m(\u001b[49m\u001b[38;5;28;43mself\u001b[39;49m\u001b[43m,\u001b[49m\u001b[43m \u001b[49m\u001b[43mrequest\u001b[49m\u001b[43m)\u001b[49m\n",
      "File \u001b[0;32m~/.pyenv/versions/3.9.11/envs/data/lib/python3.9/site-packages/suds/transport/http.py:106\u001b[0m, in \u001b[0;36mHttpTransport.send\u001b[0;34m(self, request)\u001b[0m\n\u001b[1;32m    105\u001b[0m \u001b[38;5;28;01mif\u001b[39;00m e\u001b[38;5;241m.\u001b[39mcode \u001b[38;5;129;01mnot\u001b[39;00m \u001b[38;5;129;01min\u001b[39;00m (http\u001b[38;5;241m.\u001b[39mclient\u001b[38;5;241m.\u001b[39mACCEPTED, http\u001b[38;5;241m.\u001b[39mclient\u001b[38;5;241m.\u001b[39mNO_CONTENT):\n\u001b[0;32m--> 106\u001b[0m     \u001b[38;5;28;01mraise\u001b[39;00m TransportError(e\u001b[38;5;241m.\u001b[39mmsg, e\u001b[38;5;241m.\u001b[39mcode, e\u001b[38;5;241m.\u001b[39mfp)\n",
      "\u001b[0;31mTransportError\u001b[0m: Internal Server Error",
      "\nDuring handling of the above exception, another exception occurred:\n",
      "\u001b[0;31mWebFault\u001b[0m                                  Traceback (most recent call last)",
      "Input \u001b[0;32mIn [65]\u001b[0m, in \u001b[0;36m<cell line: 1>\u001b[0;34m()\u001b[0m\n\u001b[0;32m----> 1\u001b[0m \u001b[43mclient\u001b[49m\u001b[38;5;241;43m.\u001b[39;49m\u001b[43mservice\u001b[49m\u001b[38;5;241;43m.\u001b[39;49m\u001b[43mconsultaProspecta\u001b[49m\u001b[43m(\u001b[49m\u001b[38;5;124;43m\"\u001b[39;49m\u001b[38;5;124;43m3058\u001b[39;49m\u001b[38;5;124;43m\"\u001b[39;49m\u001b[43m,\u001b[49m\u001b[43m \u001b[49m\u001b[38;5;124;43m\"\u001b[39;49m\u001b[38;5;124;43m2924304\u001b[39;49m\u001b[38;5;124;43m\"\u001b[39;49m\u001b[43m,\u001b[49m\u001b[43m \u001b[49m\u001b[38;5;124;43m\"\u001b[39;49m\u001b[38;5;124;43m1\u001b[39;49m\u001b[38;5;124;43m\"\u001b[39;49m\u001b[43m)\u001b[49m\n",
      "File \u001b[0;32m~/.pyenv/versions/3.9.11/envs/data/lib/python3.9/site-packages/suds/client.py:586\u001b[0m, in \u001b[0;36mMethod.__call__\u001b[0;34m(self, *args, **kwargs)\u001b[0m\n\u001b[1;32m    584\u001b[0m client \u001b[38;5;241m=\u001b[39m clientclass(\u001b[38;5;28mself\u001b[39m\u001b[38;5;241m.\u001b[39mclient, \u001b[38;5;28mself\u001b[39m\u001b[38;5;241m.\u001b[39mmethod)\n\u001b[1;32m    585\u001b[0m \u001b[38;5;28;01mtry\u001b[39;00m:\n\u001b[0;32m--> 586\u001b[0m     \u001b[38;5;28;01mreturn\u001b[39;00m \u001b[43mclient\u001b[49m\u001b[38;5;241;43m.\u001b[39;49m\u001b[43minvoke\u001b[49m\u001b[43m(\u001b[49m\u001b[43margs\u001b[49m\u001b[43m,\u001b[49m\u001b[43m \u001b[49m\u001b[43mkwargs\u001b[49m\u001b[43m)\u001b[49m\n\u001b[1;32m    587\u001b[0m \u001b[38;5;28;01mexcept\u001b[39;00m WebFault \u001b[38;5;28;01mas\u001b[39;00m e:\n\u001b[1;32m    588\u001b[0m     \u001b[38;5;28;01mif\u001b[39;00m \u001b[38;5;28mself\u001b[39m\u001b[38;5;241m.\u001b[39mfaults():\n",
      "File \u001b[0;32m~/.pyenv/versions/3.9.11/envs/data/lib/python3.9/site-packages/suds/client.py:728\u001b[0m, in \u001b[0;36m_SoapClient.invoke\u001b[0;34m(self, args, kwargs)\u001b[0m\n\u001b[1;32m    726\u001b[0m metrics\u001b[38;5;241m.\u001b[39mlog\u001b[38;5;241m.\u001b[39mdebug(\u001b[38;5;124m\"\u001b[39m\u001b[38;5;124mmessage for \u001b[39m\u001b[38;5;124m'\u001b[39m\u001b[38;5;132;01m%s\u001b[39;00m\u001b[38;5;124m'\u001b[39m\u001b[38;5;124m created: \u001b[39m\u001b[38;5;132;01m%s\u001b[39;00m\u001b[38;5;124m\"\u001b[39m, method_name, timer)\n\u001b[1;32m    727\u001b[0m timer\u001b[38;5;241m.\u001b[39mstart()\n\u001b[0;32m--> 728\u001b[0m result \u001b[38;5;241m=\u001b[39m \u001b[38;5;28;43mself\u001b[39;49m\u001b[38;5;241;43m.\u001b[39;49m\u001b[43msend\u001b[49m\u001b[43m(\u001b[49m\u001b[43msoapenv\u001b[49m\u001b[43m,\u001b[49m\u001b[43m \u001b[49m\u001b[43mtimeout\u001b[49m\u001b[38;5;241;43m=\u001b[39;49m\u001b[43mtimeout\u001b[49m\u001b[43m)\u001b[49m\n\u001b[1;32m    729\u001b[0m timer\u001b[38;5;241m.\u001b[39mstop()\n\u001b[1;32m    730\u001b[0m metrics\u001b[38;5;241m.\u001b[39mlog\u001b[38;5;241m.\u001b[39mdebug(\u001b[38;5;124m\"\u001b[39m\u001b[38;5;124mmethod \u001b[39m\u001b[38;5;124m'\u001b[39m\u001b[38;5;132;01m%s\u001b[39;00m\u001b[38;5;124m'\u001b[39m\u001b[38;5;124m invoked: \u001b[39m\u001b[38;5;132;01m%s\u001b[39;00m\u001b[38;5;124m\"\u001b[39m, method_name, timer)\n",
      "File \u001b[0;32m~/.pyenv/versions/3.9.11/envs/data/lib/python3.9/site-packages/suds/client.py:776\u001b[0m, in \u001b[0;36m_SoapClient.send\u001b[0;34m(self, soapenv, timeout)\u001b[0m\n\u001b[1;32m    774\u001b[0m \u001b[38;5;28;01mexcept\u001b[39;00m suds\u001b[38;5;241m.\u001b[39mtransport\u001b[38;5;241m.\u001b[39mTransportError \u001b[38;5;28;01mas\u001b[39;00m e:\n\u001b[1;32m    775\u001b[0m     content \u001b[38;5;241m=\u001b[39m e\u001b[38;5;241m.\u001b[39mfp \u001b[38;5;129;01mand\u001b[39;00m e\u001b[38;5;241m.\u001b[39mfp\u001b[38;5;241m.\u001b[39mread() \u001b[38;5;129;01mor\u001b[39;00m \u001b[38;5;124m\"\u001b[39m\u001b[38;5;124m\"\u001b[39m\n\u001b[0;32m--> 776\u001b[0m     \u001b[38;5;28;01mreturn\u001b[39;00m \u001b[38;5;28;43mself\u001b[39;49m\u001b[38;5;241;43m.\u001b[39;49m\u001b[43mprocess_reply\u001b[49m\u001b[43m(\u001b[49m\u001b[43mcontent\u001b[49m\u001b[43m,\u001b[49m\u001b[43m \u001b[49m\u001b[43me\u001b[49m\u001b[38;5;241;43m.\u001b[39;49m\u001b[43mhttpcode\u001b[49m\u001b[43m,\u001b[49m\u001b[43m \u001b[49m\u001b[43mtostr\u001b[49m\u001b[43m(\u001b[49m\u001b[43me\u001b[49m\u001b[43m)\u001b[49m\u001b[43m)\u001b[49m\n\u001b[1;32m    777\u001b[0m \u001b[38;5;28;01mreturn\u001b[39;00m \u001b[38;5;28mself\u001b[39m\u001b[38;5;241m.\u001b[39mprocess_reply(reply\u001b[38;5;241m.\u001b[39mmessage, \u001b[38;5;28;01mNone\u001b[39;00m, \u001b[38;5;28;01mNone\u001b[39;00m)\n",
      "File \u001b[0;32m~/.pyenv/versions/3.9.11/envs/data/lib/python3.9/site-packages/suds/client.py:840\u001b[0m, in \u001b[0;36m_SoapClient.process_reply\u001b[0;34m(self, reply, status, description)\u001b[0m\n\u001b[1;32m    836\u001b[0m             log\u001b[38;5;241m.\u001b[39mwarning(\u001b[38;5;124m\"\u001b[39m\u001b[38;5;124mWeb service reported a SOAP processing fault \u001b[39m\u001b[38;5;124m\"\u001b[39m\n\u001b[1;32m    837\u001b[0m                 \u001b[38;5;124m\"\u001b[39m\u001b[38;5;124musing an unexpected HTTP status code \u001b[39m\u001b[38;5;132;01m%d\u001b[39;00m\u001b[38;5;124m. Reporting \u001b[39m\u001b[38;5;124m\"\u001b[39m\n\u001b[1;32m    838\u001b[0m                 \u001b[38;5;124m\"\u001b[39m\u001b[38;5;124mas an internal server error.\u001b[39m\u001b[38;5;124m\"\u001b[39m, status)\n\u001b[1;32m    839\u001b[0m         \u001b[38;5;28;01mif\u001b[39;00m \u001b[38;5;28mself\u001b[39m\u001b[38;5;241m.\u001b[39moptions\u001b[38;5;241m.\u001b[39mfaults:\n\u001b[0;32m--> 840\u001b[0m             \u001b[38;5;28;01mraise\u001b[39;00m WebFault(fault, replyroot)\n\u001b[1;32m    841\u001b[0m         \u001b[38;5;28;01mreturn\u001b[39;00m http\u001b[38;5;241m.\u001b[39mclient\u001b[38;5;241m.\u001b[39mINTERNAL_SERVER_ERROR, fault\n\u001b[1;32m    842\u001b[0m \u001b[38;5;28;01mif\u001b[39;00m status \u001b[38;5;241m!=\u001b[39m http\u001b[38;5;241m.\u001b[39mclient\u001b[38;5;241m.\u001b[39mOK:\n",
      "\u001b[0;31mWebFault\u001b[0m: Server raised fault: 'WSDoAllReceiver: Request does not contain required Security header'"
     ]
    }
   ],
   "source": [
    "client.service.consultaProspecta(\"3058\", \"2924304\", \"1\")"
   ]
  },
  {
   "cell_type": "code",
   "execution_count": 58,
   "id": "a2fcb447",
   "metadata": {},
   "outputs": [
    {
     "data": {
      "text/plain": [
       "['__class__',\n",
       " '__delattr__',\n",
       " '__dict__',\n",
       " '__dir__',\n",
       " '__doc__',\n",
       " '__eq__',\n",
       " '__format__',\n",
       " '__ge__',\n",
       " '__getattribute__',\n",
       " '__gt__',\n",
       " '__hash__',\n",
       " '__init__',\n",
       " '__init_subclass__',\n",
       " '__le__',\n",
       " '__lt__',\n",
       " '__module__',\n",
       " '__ne__',\n",
       " '__new__',\n",
       " '__reduce__',\n",
       " '__reduce_ex__',\n",
       " '__repr__',\n",
       " '__setattr__',\n",
       " '__sizeof__',\n",
       " '__str__',\n",
       " '__subclasshook__',\n",
       " '__unicode__',\n",
       " '__weakref__',\n",
       " 'add_prefix',\n",
       " 'clone',\n",
       " 'dict',\n",
       " 'factory',\n",
       " 'items',\n",
       " 'last_received',\n",
       " 'last_sent',\n",
       " 'messages',\n",
       " 'metadata',\n",
       " 'options',\n",
       " 'sd',\n",
       " 'service',\n",
       " 'set_options',\n",
       " 'wsdl']"
      ]
     },
     "execution_count": 58,
     "metadata": {},
     "output_type": "execute_result"
    }
   ],
   "source": [
    "dir(client)"
   ]
  },
  {
   "cell_type": "code",
   "execution_count": null,
   "id": "fe7148c4",
   "metadata": {},
   "outputs": [],
   "source": []
  }
 ],
 "metadata": {
  "kernelspec": {
   "display_name": "Python 3 (ipykernel)",
   "language": "python",
   "name": "python3"
  },
  "language_info": {
   "codemirror_mode": {
    "name": "ipython",
    "version": 3
   },
   "file_extension": ".py",
   "mimetype": "text/x-python",
   "name": "python",
   "nbconvert_exporter": "python",
   "pygments_lexer": "ipython3",
   "version": "3.9.15"
  }
 },
 "nbformat": 4,
 "nbformat_minor": 5
}
