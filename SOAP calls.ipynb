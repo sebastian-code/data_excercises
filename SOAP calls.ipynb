{
 "cells": [
  {
   "cell_type": "code",
   "execution_count": null,
   "id": "802cf3aa",
   "metadata": {
    "tags": []
   },
   "outputs": [],
   "source": [
    "import base64\n",
    "import json\n",
    "import logging\n",
    "import requests\n",
    "from os import getenv\n",
    "from dotenv import load_dotenv\n",
    "from suds.client import Client\n",
    "from suds.sudsobject import asdict\n",
    "\n",
    "load_dotenv()"
   ]
  },
  {
   "cell_type": "code",
   "execution_count": null,
   "id": "e8cefc08",
   "metadata": {
    "tags": []
   },
   "outputs": [],
   "source": [
    "url_income_estimator = getenv(\"URL_INCOME\")\n",
    "usuario = getenv(\"TRANSUNION_USR\")\n",
    "clave = getenv(\"TRANSUNION_PASS\")\n",
    "logging.basicConfig(level=logging.INFO)\n",
    "logging.getLogger('suds.client').setLevel(logging.DEBUG)\n",
    "logging.getLogger('suds.transport').setLevel(logging.DEBUG)\n",
    "logging.getLogger('suds.xsd.schema').setLevel(logging.DEBUG)\n",
    "logging.getLogger('suds.wsdl').setLevel(logging.DEBUG)\n",
    "base64string = base64.b64encode(f\"{usuario}:{clave}\".encode('utf-8'))\n",
    "headers = {\n",
    "    \"Content-Type\": \"text/xml; charset=utf-8\",\n",
    "    \"Authorization\": f\"Basic {base64string.decode()}\"\n",
    "}\n",
    "# https://stackoverflow.com/questions/40348040/how-to-sign-xml-with-python-suds\n"
   ]
  },
  {
   "cell_type": "code",
   "execution_count": null,
   "id": "bf171a65",
   "metadata": {
    "tags": []
   },
   "outputs": [],
   "source": [
    "client = Client(url_income_estimator, password=clave, username=usuario)\n",
    "print(client)\n",
    "# Llamada al servicio\n",
    "# client.service.consultaProspecta()"
   ]
  },
  {
   "cell_type": "code",
   "execution_count": null,
   "id": "40bbe709",
   "metadata": {},
   "outputs": [],
   "source": [
    "token = client.factory.create('AuthToken')\n",
    "token.username = usuario\n",
    "token.password = password\n",
    "client.set_options(soapheaders=token)"
   ]
  },
  {
   "cell_type": "code",
   "execution_count": null,
   "id": "30f7959b",
   "metadata": {},
   "outputs": [],
   "source": [
    "client.service.consultaProspecta(\"3058\", \"2924304\", \"1\")"
   ]
  },
  {
   "cell_type": "code",
   "execution_count": null,
   "id": "a2fcb447",
   "metadata": {},
   "outputs": [],
   "source": [
    "dir(client)"
   ]
  },
  {
   "cell_type": "code",
   "execution_count": null,
   "id": "fe7148c4",
   "metadata": {},
   "outputs": [],
   "source": []
  }
 ],
 "metadata": {
  "kernelspec": {
   "display_name": "Python 3 (ipykernel)",
   "language": "python",
   "name": "python3"
  },
  "language_info": {
   "codemirror_mode": {
    "name": "ipython",
    "version": 3
   },
   "file_extension": ".py",
   "mimetype": "text/x-python",
   "name": "python",
   "nbconvert_exporter": "python",
   "pygments_lexer": "ipython3",
   "version": "3.9.15"
  }
 },
 "nbformat": 4,
 "nbformat_minor": 5
}
