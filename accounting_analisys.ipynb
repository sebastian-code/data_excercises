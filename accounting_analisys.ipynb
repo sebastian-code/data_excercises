{
 "cells": [
  {
   "cell_type": "code",
   "execution_count": null,
   "metadata": {},
   "outputs": [],
   "source": [
    "# Command to allow inline matplotlib ploting\n",
    "%matplotlib notebook\n",
    "\n",
    "import calendar\n",
    "import pandas as pd\n",
    "import numpy as np\n",
    "import matplotlib.pyplot as plt\n",
    "from matplotlib import style\n",
    "\n",
    "\n",
    "style.use('fivethirtyeight')\n",
    "\n",
    "df = pd.read_excel(\"data_sources/auxiliar.xlsx\", skiprows=2)\n",
    "df = df[df.Fecha.notnull()]\n",
    "# Useful command to drop rows with specific/partial strings\n",
    "df[df.NomCuenta.str.contains(\"Total\") == False]\n",
    "df.drop(['ChequeNumero', 'Doc'], axis=1, inplace=True)\n",
    "df.rename(inplace=True, columns = {\n",
    "                                    'NomCuenta':'cuenta_detallada', \n",
    "                                    'Tercero':'tercero',\n",
    "                                    'Notas':'detalle', 'Débitos':'debitos', \n",
    "                                    'Créditos':'creditos', 'Saldo':'saldo'\n",
    "                                })\n",
    "# df.index = df.Fecha\n",
    "df['mes'] = pd.DatetimeIndex(df['Fecha']).month\n",
    "df.cuenta_detallada.fillna(method='ffill', inplace=True)\n",
    "df['clase'] = df.cuenta_detallada.str[:1]\n",
    "df['grupo'] = df.cuenta_detallada.str[:2]\n",
    "df['cuenta'] = df.cuenta_detallada.str[:4]\n",
    "df['subcuenta'] = df.cuenta_detallada.str[:6]\n",
    "df['cuenta_especifica'] = df.cuenta_detallada.str[:8]\n",
    "df['nombre_cuenta'] = df.cuenta_detallada.str[7:]\n",
    "df['consolidado'] = df.creditos - df.debitos\n",
    "#df = df[df.mes != 12] # This line drops december of previous year, but careful because it can drop actual december \n",
    "#df.index = df.mes\n",
    "df = df[['clase', 'grupo', 'cuenta', 'subcuenta', 'cuenta_especifica', 'nombre_cuenta', 'cuenta_detallada',\n",
    "         'tercero', 'Fecha', 'detalle', 'debitos', 'creditos', 'saldo', 'consolidado', 'mes']]\n",
    "\n",
    "# Command to list the column dtypes.\n",
    "# df.dtypes\"\"\"\n",
    "df.head()"
   ]
  },
  {
   "cell_type": "code",
   "execution_count": 13,
   "metadata": {},
   "outputs": [
    {
     "name": "stdout",
     "output_type": "stream",
     "text": [
      "cuenta == [\"4105\", \"4110\", \"4115\", \"4120\", \"4125\", \"4130\", \"4135\", \"4140\", \"4145\", \"4150\", \"4155\", \"4160\", \"4165\", \"4170\", \"4175\", \"4205\", \"4210\", \"4215\", \"4220\", \"4225\", \"4230\", \"4235\", \"4240\", \"4245\", \"4248\", \"4250\", \"4255\", \"4260\", \"4265\", \"4275\", \"4295\", \"4705\", \"5105\", \"5110\", \"5115\", \"5120\", \"5125\", \"5130\", \"5135\", \"5140\", \"5145\", \"5150\", \"5155\", \"5160\", \"5165\", \"5195\", \"5199\", \"5205\", \"5210\", \"5215\", \"5220\", \"5225\", \"5230\", \"5235\", \"5240\", \"5245\", \"5250\", \"5255\", \"5260\", \"5265\", \"5270\", \"5295\", \"5299\", \"5305\", \"5310\", \"5315\", \"5395\", \"5405\", \"5905\", \"6105\", \"6110\", \"6115\", \"6120\", \"6125\", \"6130\", \"6135\", \"6140\", \"6145\", \"6150\", \"6155\", \"6160\", \"6165\", \"6170\", \"6205\", \"6210\", \"6215\", \"6220\", \"6225\", \"7105\", \"7110\", \"7115\", \"7120\", \"7125\", \"7130\", \"7135\", \"7140\", \"7145\", \"7150\", \"7155\", \"7160\", \"7165\", \"7170\", \"7175\", \"7180\", \"7185\", \"7190\", \"7195\", \"7200\", \"7205\", \"7210\", \"7215\", \"7220\", \"7225\", \"7230\", \"7235\", \"7240\", \"7245\", \"7250\", \"7255\", \"7260\", \"7265\", \"7270\", \"7275\", \"7280\", \"7285\", \"7290\", \"7295\", \"7300\", \"7305\", \"7310\", \"7315\", \"7320\", \"7325\", \"7330\", \"7335\", \"7340\", \"7345\", \"7350\", \"7355\", \"7360\", \"7365\", \"7370\", \"7375\", \"7380\", \"7385\", \"7390\", \"7395\", ]\n"
     ]
    }
   ],
   "source": [
    "# This lines defines the query for the pivot table construct\n",
    "query = 'cuenta == ['\n",
    "cuentas = (4105, 4110, 4115, 4120, 4125, 4130, 4135, 4140, 4145, 4150, 4155, 4160, 4165,\n",
    "           4170, 4175, 4205, 4210, 4215, 4220, 4225, 4230, 4235, 4240, 4245, 4248, 4250,\n",
    "           4255, 4260, 4265, 4275, 4295, 4705, 5105, 5110, 5115, 5120, 5125, 5130, 5135,\n",
    "           5140, 5145, 5150, 5155, 5160, 5165, 5195, 5199, 5205, 5210, 5215, 5220, 5225,\n",
    "           5230, 5235, 5240, 5245, 5250, 5255, 5260, 5265, 5270, 5295, 5299, 5305, 5310,\n",
    "           5315, 5395, 5405, 5905, 6105, 6110, 6115, 6120, 6125, 6130, 6135, 6140, 6145,\n",
    "           6150, 6155, 6160, 6165, 6170, 6205, 6210, 6215, 6220, 6225, 7105, 7110, 7115,\n",
    "           7120, 7125, 7130, 7135, 7140, 7145, 7150, 7155, 7160, 7165, 7170, 7175, 7180,\n",
    "           7185, 7190, 7195, 7200, 7205, 7210, 7215, 7220, 7225, 7230, 7235, 7240, 7245,\n",
    "           7250, 7255, 7260, 7265, 7270, 7275, 7280, 7285, 7290, 7295, 7300, 7305, 7310,\n",
    "           7315, 7320, 7325, 7330, 7335, 7340, 7345, 7350, 7355, 7360, 7365, 7370, 7375,\n",
    "           7380, 7385, 7390, 7395)\n",
    "\n",
    "# It was nicely done, but doesn't accomplish what I need to do.\n",
    "indice = [str(i) for i in cuentas]\n",
    "\n",
    "# Nice try with this, but still not working\n",
    "# query += ['\"' + str(i) + '\", ' for i in cuentas]\n",
    "# So I go with this.\n",
    "for i in cuentas:\n",
    "    i = '\"' + str(i) + '\", '\n",
    "    query = query + i\n",
    "\n",
    "query = query + ']'\n",
    "print(query)"
   ]
  },
  {
   "cell_type": "code",
   "execution_count": null,
   "metadata": {
    "collapsed": true
   },
   "outputs": [],
   "source": [
    "tb = pd.pivot_table(df, index=['cuenta', 'nombre_cuenta'], values=['consolidado'], \n",
    "                    columns=['mes'], aggfunc=np.sum, fill_value=0).query(query)\n",
    "# tb.cuenta.fillna(method='ffill', inplace=True)\n",
    "# tb.to_excel('mobius_data/auxiliar_mobius_pivoted.xlsx')\n",
    "tb\n",
    "\n",
    "# df.drop(['ChequeNumero', 'Fecha', 'mes', 'soporte'], axis=1, inplace=True)\n",
    "# Next lines saves the data in excel files.\n",
    "# df.to_excel('mobius_data/auxiliar_mobius_pivoted.xlsx')\n",
    "\n",
    "# Next lines plots the resulting data\n",
    "# tb.drop(['All', ], axis=1, inplace=True)\n",
    "# tb[['consolidado']].plot()\n",
    "# plt.show()\"\"\""
   ]
  }
 ],
 "metadata": {
  "kernelspec": {
   "display_name": "Python 3 (ipykernel)",
   "language": "python",
   "name": "python3"
  },
  "language_info": {
   "codemirror_mode": {
    "name": "ipython",
    "version": 3
   },
   "file_extension": ".py",
   "mimetype": "text/x-python",
   "name": "python",
   "nbconvert_exporter": "python",
   "pygments_lexer": "ipython3",
   "version": "3.8.10"
  }
 },
 "nbformat": 4,
 "nbformat_minor": 1
}
