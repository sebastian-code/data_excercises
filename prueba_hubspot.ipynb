{
 "cells": [
  {
   "cell_type": "code",
   "execution_count": null,
   "id": "42b1c959-a958-4bef-ae86-e413273613e8",
   "metadata": {},
   "outputs": [],
   "source": [
    "import json\n",
    "import requests\n",
    "from os import getenv\n",
    "from dataclasses import dataclass\n",
    "from dotenv import load_dotenv\n",
    "from hubspot import HubSpot\n",
    "from hubspot.crm.contacts import SimplePublicObjectInput as ContactInput\n",
    "from hubspot.crm.contacts.exceptions import ApiException as ContactException\n",
    "from hubspot.crm.deals import SimplePublicObjectInput as DealInput\n",
    "from hubspot.crm.deals.exceptions import ApiException as DealException\n",
    "from hubspot.crm.associations.exceptions import ApiException as AssociationException\n",
    "from hubspot.crm.companies import SimplePublicObjectInput as CompanyInput\n",
    "from hubspot.crm.companies.exceptions import ApiException as CompanyException\n",
    "\n",
    "load_dotenv()"
   ]
  },
  {
   "cell_type": "code",
   "execution_count": null,
   "id": "b434fbe9-9484-459e-8f99-5bc41b8483cc",
   "metadata": {},
   "outputs": [],
   "source": [
    "@dataclass\n",
    "class ConectorHubspot:\n",
    "    correo: str = None\n",
    "    nombres: str = None\n",
    "    apellidos: str = None\n",
    "    telefono: int = None\n",
    "    monto_negocio: int = None\n",
    "    tipo_negocio: str = None\n",
    "    compania: str = None\n",
    "    contacto: ContactInput = None\n",
    "    negocio: DealInput = None\n",
    "    cliente: HubSpot = HubSpot(access_token=getenv(\"TOKEN_HUBSPOT\"))\n",
    "    \n",
    "    def crear_contacto_nuevo(self) -> None:\n",
    "        try:\n",
    "            self.contacto = self.cliente.crm.contacts.basic_api.create(\n",
    "                simple_public_object_input=ContactInput(\n",
    "                    properties={\n",
    "                        \"email\": self.correo,\n",
    "                        \"firstname\": self.nombres,\n",
    "                        \"lastname\": self.apellidos,\n",
    "                        \"phone\": \"+57\" + self.telefono,\n",
    "                        \"hs_whatsapp_phone_number\": \"+57\" + self.telefono,\n",
    "                    }\n",
    "                )\n",
    "            )\n",
    "\n",
    "        except ContactException as e:\n",
    "            if e.status == 409:\n",
    "                mensaje = json.loads(e.body).get(\"message\")\n",
    "                if \"Existing ID:\" in mensaje:\n",
    "                    self.contacto = self.cliente.crm.contacts.basic_api.get_by_id(mensaje[37:])\n",
    "            \n",
    "            else:\n",
    "                print(\"Error al recuperar la información de %s %s en Hubspot usando el id %s: %s\"\n",
    "                      % (self.nombres, self.apellidos, mensaje[37:], e)\n",
    "                )\n",
    "\n",
    "    def crear_negocio_nuevo(self) -> None:\n",
    "        try:\n",
    "            self.negocio = self.cliente.crm.deals.basic_api.create(\n",
    "                simple_public_object_input=DealInput(\n",
    "                    properties={\n",
    "                        \"amount\": self.monto_negocio,\n",
    "                        \"dealname\": f\"{self.nombres} {self.apellidos}\",\n",
    "                        'pipeline': '25396919',\n",
    "                        'dealstage': '58528919',\n",
    "                    }\n",
    "                )\n",
    "            )\n",
    "\n",
    "        except DealException as e:\n",
    "            print(\n",
    "                \"Hubo un problema al momento de registrar el negocio de %s %s en Hubspot: %s\"\n",
    "                % (self.nombres, self.apellidos, e)\n",
    "            )\n",
    "\n",
    "    def asociar_contacto_compania_negocio(self) -> None:\n",
    "        try:\n",
    "            self.cliente.crm.objects.associations_api.create(\n",
    "                \"contacts\",\n",
    "                self.contacto.id,\n",
    "                \"company\",\n",
    "                self.compania,\n",
    "                \"contact_to_company\",\n",
    "            )\n",
    "            self.cliente.crm.objects.associations_api.create(\n",
    "                \"contacts\",\n",
    "                self.contacto.id,\n",
    "                \"deals\",\n",
    "                self.negocio.id,\n",
    "                \"contact_to_deal\",\n",
    "            )\n",
    "            self.cliente.crm.objects.associations_api.create(\n",
    "                \"company\", self.compania, \"deals\", self.negocio.id, \"company_to_deal\"\n",
    "            )\n",
    "\n",
    "        except AssociationException as e:\n",
    "            print(\n",
    "                \"Hubo un problema al momento de establecer las relaciones de %s %s en Hubspot: %s\"\n",
    "                % (self.nombres, self.apellidos, e)\n",
    "            )\n",
    "    \n",
    "    def registrar_nueva_compania(self) -> None:\n",
    "        try:\n",
    "            self.cliente.crm.objects.\n",
    "            \n",
    "        except CompanyException as e:\n",
    "            pass"
   ]
  },
  {
   "cell_type": "code",
   "execution_count": null,
   "id": "fed3403c-317a-483c-9fe9-60e8795eb25f",
   "metadata": {},
   "outputs": [],
   "source": [
    "conector = ConectorHubspot(\n",
    "    correo=\"generosoestecorreo@cualquiera.com\",\n",
    "    nombres=\"El Conde\",\n",
    "    apellidos=\"de Montecristo\",\n",
    "    telefono=3137890952,\n",
    "    monto_negocio=2000000,\n",
    "    tipo_negocio=\"Tronco e casa\",\n",
    "    compania=14108546423\n",
    ")"
   ]
  },
  {
   "cell_type": "code",
   "execution_count": null,
   "id": "10b683d4-2ab0-4d95-a2e6-ef96f86ec496",
   "metadata": {},
   "outputs": [],
   "source": [
    "conector.crear_contacto_nuevo()"
   ]
  },
  {
   "cell_type": "code",
   "execution_count": null,
   "id": "70e05817-9327-4625-ae3d-a19f42846e61",
   "metadata": {},
   "outputs": [],
   "source": [
    "conector.contacto"
   ]
  },
  {
   "cell_type": "code",
   "execution_count": null,
   "id": "98f864b6-de5c-4bae-95e5-655cab92f0fe",
   "metadata": {},
   "outputs": [],
   "source": [
    "conector.crear_negocio_nuevo()"
   ]
  },
  {
   "cell_type": "code",
   "execution_count": null,
   "id": "0ee52c0e-9f20-4dbf-a52d-04765469d9b0",
   "metadata": {},
   "outputs": [],
   "source": [
    "conector.negocio"
   ]
  },
  {
   "cell_type": "code",
   "execution_count": null,
   "id": "2550e051-0955-413a-adc4-13f39fbc6060",
   "metadata": {},
   "outputs": [],
   "source": [
    "conector.asociar_contacto_compania_negocio()"
   ]
  },
  {
   "cell_type": "code",
   "execution_count": null,
   "id": "675a1403-0674-44ad-bf76-f596a07587c0",
   "metadata": {},
   "outputs": [],
   "source": [
    "cliente.crm.objects.associations_api.create(\"company\", 14108546423, \"deals\", negocio.id, \"company_to_deal\")"
   ]
  },
  {
   "cell_type": "code",
   "execution_count": null,
   "id": "15c0ac9e-34d1-4928-a41a-560743c69877",
   "metadata": {},
   "outputs": [],
   "source": [
    "crear_nuevo_negocio(amount=1000000,dealname=\"Nombre de un nuevo negocio\")"
   ]
  },
  {
   "cell_type": "code",
   "execution_count": null,
   "id": "5e61a655-fcfe-48fc-89bb-18e55b6be065",
   "metadata": {},
   "outputs": [],
   "source": [
    "cliente.crm.deals.basic_api.get_by_id(12254346076) #properties=[\"associatedVids\"])"
   ]
  },
  {
   "cell_type": "code",
   "execution_count": null,
   "id": "93295532-0b86-4202-8382-ad6754913bd1",
   "metadata": {},
   "outputs": [],
   "source": [
    "cliente.crm.objects.associations_api.get_all(\"deals\", 12254346076, \"contacts\")"
   ]
  },
  {
   "cell_type": "code",
   "execution_count": null,
   "id": "3bda15a0-5225-4ef9-849d-e8acb41b7dcf",
   "metadata": {},
   "outputs": [],
   "source": [
    "cliente.crm.objects.associations_api.get_all(\"contacts\", 251, \"deals\")"
   ]
  },
  {
   "cell_type": "code",
   "execution_count": null,
   "id": "1291c691-d61f-4704-8395-1e89887e7405",
   "metadata": {},
   "outputs": [],
   "source": [
    "cliente = HubSpot(access_token=getenv(\"TOKEN_HUBSPOT\"))"
   ]
  },
  {
   "cell_type": "code",
   "execution_count": null,
   "id": "167a62ec-0a8a-47d0-8742-d637bd6c80be",
   "metadata": {},
   "outputs": [],
   "source": [
    "cliente.crm.deals.basic_api.get_by_id(12302313513, , )"
   ]
  },
  {
   "cell_type": "code",
   "execution_count": null,
   "id": "19b891cf-355d-418d-974d-53db1cd1e35d",
   "metadata": {},
   "outputs": [],
   "source": [
    "cliente.crm.deals.get_all() # properties=[\"dealname\", \"dealstage\", \"pipeline\"])"
   ]
  },
  {
   "cell_type": "code",
   "execution_count": null,
   "id": "32cf71af-289b-4218-aebd-3dafb8636467",
   "metadata": {},
   "outputs": [],
   "source": [
    "cliente = HubSpot(access_token=getenv(\"TOKEN_HUBSPOT\"))"
   ]
  },
  {
   "cell_type": "code",
   "execution_count": null,
   "id": "fef717c9-2b5d-408b-b587-0d2b76665e25",
   "metadata": {
    "tags": []
   },
   "outputs": [],
   "source": [
    "cliente.crm.companies.get_all()"
   ]
  },
  {
   "cell_type": "code",
   "execution_count": null,
   "id": "4ae06c14-0aae-4b97-b02d-118005dee285",
   "metadata": {},
   "outputs": [],
   "source": []
  }
 ],
 "metadata": {
  "kernelspec": {
   "display_name": "Python 3 (ipykernel)",
   "language": "python",
   "name": "python3"
  },
  "language_info": {
   "codemirror_mode": {
    "name": "ipython",
    "version": 3
   },
   "file_extension": ".py",
   "mimetype": "text/x-python",
   "name": "python",
   "nbconvert_exporter": "python",
   "pygments_lexer": "ipython3",
   "version": "3.9.15"
  }
 },
 "nbformat": 4,
 "nbformat_minor": 5
}
