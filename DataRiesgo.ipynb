{
 "cells": [
  {
   "cell_type": "code",
   "execution_count": null,
   "id": "72c5517d",
   "metadata": {},
   "outputs": [],
   "source": [
    "import requests\n",
    "from os import getenv\n",
    "from dotenv import load_dotenv\n",
    "\n",
    "load_dotenv()"
   ]
  },
  {
   "cell_type": "code",
   "execution_count": null,
   "id": "597df128",
   "metadata": {},
   "outputs": [],
   "source": [
    "usuario = getenv(\"DATARIESGO_USR\")\n",
    "clave = getenv(\"DATARIESGO_PASS\")\n",
    "\n",
    "def generar_token():\n",
    "    headers = {\n",
    "        \"Accept\": \"application/json\",\n",
    "        \"Content-Type\": \"application/json\",\n",
    "    }\n",
    "    return requests.get(\n",
    "        \"https://app.datariesgos.com/validador/apiPublica/TokenService/token\",\n",
    "        auth=(usuario, clave),\n",
    "        headers=headers,\n",
    "    ).json().get(\"token\")"
   ]
  },
  {
   "cell_type": "code",
   "execution_count": null,
   "id": "d4e1ebf0",
   "metadata": {},
   "outputs": [],
   "source": [
    "token = generar_token()\n"
   ]
  },
  {
   "cell_type": "code",
   "execution_count": null,
   "id": "e25981fe",
   "metadata": {},
   "outputs": [],
   "source": [
    "def consultar_documento(token:str, riesgo:str=\"false\"):\n",
    "    url = f\"https://app.datariesgos.com/validador/ws/ConsultaConsolidadaService/consultaConsolidada/soloRiesgo/{riesgo}\"\n",
    "    headers = {\n",
    "        \"Accept\": \"application/json\",\n",
    "        \"Authorization\": f\"Bearer {token}\",\n",
    "        \"Content-Type\": \"application/json\",\n",
    "    }\n",
    "    payload = {\n",
    "        \"datoConsultar\":\"19123402\",\n",
    "        \"tipoDocumento\":\"cc\",\n",
    "        \"usuarioAppPropietaria\": \"Usuario Integración\"\n",
    "    }\n",
    "    return requests.post(url, json=payload, headers=headers, auth=None)"
   ]
  },
  {
   "cell_type": "code",
   "execution_count": null,
   "id": "6ef098b6",
   "metadata": {},
   "outputs": [],
   "source": [
    "respuesta = consultar_documento(token)"
   ]
  },
  {
   "cell_type": "code",
   "execution_count": null,
   "id": "bb1da4be",
   "metadata": {},
   "outputs": [],
   "source": [
    "respuesta.json()"
   ]
  },
  {
   "cell_type": "code",
   "execution_count": null,
   "id": "3b75b6f4",
   "metadata": {},
   "outputs": [],
   "source": [
    "type(respuesta.json())"
   ]
  },
  {
   "cell_type": "code",
   "execution_count": null,
   "id": "b03c96bb",
   "metadata": {},
   "outputs": [],
   "source": [
    "def llamar_pdf():\n",
    "    url = \"https://app.datariesgos.com/validador/api/ReportePdfService/19123402\"\n",
    "    headers = {\n",
    "        \"Accept\": \"application/json\",\n",
    "        \"Authorization\": f\"Bearer {token}\",\n",
    "        \"Content-Type\": \"application/json\",\n",
    "    }\n",
    "    return requests.get(url, headers=headers)"
   ]
  },
  {
   "cell_type": "code",
   "execution_count": null,
   "id": "c195ed57",
   "metadata": {},
   "outputs": [],
   "source": []
  }
 ],
 "metadata": {
  "kernelspec": {
   "display_name": "Python 3 (ipykernel)",
   "language": "python",
   "name": "python3"
  },
  "language_info": {
   "codemirror_mode": {
    "name": "ipython",
    "version": 3
   },
   "file_extension": ".py",
   "mimetype": "text/x-python",
   "name": "python",
   "nbconvert_exporter": "python",
   "pygments_lexer": "ipython3",
   "version": "3.9.15"
  }
 },
 "nbformat": 4,
 "nbformat_minor": 5
}
